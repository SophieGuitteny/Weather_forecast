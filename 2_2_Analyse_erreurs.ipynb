{
 "cells": [
  {
   "cell_type": "markdown",
   "metadata": {
    "id": "oOwIRIYX0C4i"
   },
   "source": [
    "**L'objectif de ce notebook est d'analyser les erreurs faites par les deux modèles de classification retenus (avec et sans rééquilibrage de classes) dans le notebook 2_1 Feature Engineering&Modeling.**\n",
    "\n",
    "**La partie 1. de ce notebook reprend le preprocessing détaillé dans le notebook 2_ Feature Engineering&Modeling.**\n",
    "**Les parties 2 et 4 de ce notebook reprennent les deux modèles sélectionnés dans le notebook  2_1 Feature Engineering&Modeling.**\n",
    "\n",
    "**L'analyse des erreurs ne concerne que les parties 3 et 5 de ce notebook.**\n",
    "\n"
   ]
  },
  {
   "cell_type": "markdown",
   "metadata": {
    "id": "FG98rtNnBx3p"
   },
   "source": [
    "# **1. Bibliothèques, données et preprocessing**"
   ]
  },
  {
   "cell_type": "markdown",
   "metadata": {
    "id": "1QlrYLp3CJ0O"
   },
   "source": [
    "**Importation des bibliothèques**"
   ]
  },
  {
   "cell_type": "code",
   "execution_count": 1,
   "metadata": {
    "id": "EVRvuZljBy7e"
   },
   "outputs": [],
   "source": [
    "import numpy as np\n",
    "import pandas as pd\n",
    "\n",
    "import matplotlib.pyplot as plt\n",
    "%matplotlib inline\n",
    "import seaborn as sns\n",
    "\n",
    "from sklearn.model_selection import train_test_split\n",
    "from sklearn import preprocessing\n",
    "from sklearn import model_selection\n",
    "from sklearn import svm\n",
    "\n",
    "from sklearn import metrics \n",
    "from sklearn.metrics import classification_report\n",
    "\n",
    "from imblearn.under_sampling import RandomUnderSampler\n",
    "from imblearn.metrics import classification_report_imbalanced, geometric_mean_score\n",
    "from sklearn.metrics import f1_score\n"
   ]
  },
  {
   "cell_type": "markdown",
   "metadata": {
    "id": "-f0lge9JBqwx"
   },
   "source": [
    "**Importation des datasets**"
   ]
  },
  {
   "cell_type": "code",
   "execution_count": 2,
   "metadata": {
    "colab": {
     "base_uri": "https://localhost:8080/"
    },
    "id": "P4NhiVyhsdDL",
    "outputId": "a35ccb7e-d8b6-4fa7-b484-cfa54aa889eb"
   },
   "outputs": [],
   "source": [
    "\n",
    "df_depart = pd.read_csv('data/weatherAus.csv')\n",
    "\n",
    "df = pd.read_excel('dataset.xlsx', index_col=0)\n"
   ]
  },
  {
   "cell_type": "markdown",
   "metadata": {
    "id": "GKF8Nvvd9xzR"
   },
   "source": [
    "**Preprocessing : numérisation des variables catégorielles**"
   ]
  },
  {
   "cell_type": "code",
   "execution_count": 3,
   "metadata": {
    "colab": {
     "base_uri": "https://localhost:8080/"
    },
    "id": "ltAodOCdgxlu",
    "outputId": "f31826d1-fd92-4205-f804-045436b09d4e"
   },
   "outputs": [
    {
     "name": "stdout",
     "output_type": "stream",
     "text": [
      "il reste  4 variables catégorielles : ['Location', 'WindGustDir', 'WindDir9am', 'WindDir3pm']\n"
     ]
    }
   ],
   "source": [
    "# Numérisation des variables 'RainTomorrow' et'RainToday' :\n",
    "\n",
    "df['RainTomorrow'] = df['RainTomorrow'].replace(['No','Yes'],[0,1])\n",
    "df['RainToday'] = df['RainToday'].replace(['No','Yes'],[0,1])\n",
    "\n",
    "cat = [var for var in df.columns if df[var].dtype == 'object']\n",
    "\n",
    "print('il reste ',len(cat),'variables catégorielles :', cat)\n"
   ]
  },
  {
   "cell_type": "code",
   "execution_count": 4,
   "metadata": {
    "id": "T19CXSmu-g01"
   },
   "outputs": [],
   "source": [
    "# Numérisation des variables circulaires à l'aide de la fonction trigonométrique cosinus.\n",
    "\n",
    "df['WindGustDir'] = df['WindGustDir'].replace(['E', 'ENE', 'NE','NNE', 'N', 'NNW', 'NW', 'WNW','W',  'WSW', 'SW','SSW', 'S',\n",
    "    'SSE', 'SE', 'ESE'],[np.cos(np.pi *k/8) for k in range(16)] ).astype(np.float64)\n",
    "\n",
    "df['WindDir9am'] = df['WindDir9am'].replace(['E', 'ENE', 'NE','NNE', 'N', 'NNW', 'NW', 'WNW','W',  'WSW', 'SW','SSW', 'S',\n",
    "    'SSE', 'SE', 'ESE'],[np.cos(np.pi *k/8) for k in range(16)] ).astype(np.float64)\n",
    "\n",
    "df['WindDir3pm'] = df['WindDir3pm'].replace(['E', 'ENE', 'NE','NNE', 'N', 'NNW', 'NW', 'WNW','W',  'WSW', 'SW','SSW', 'S',\n",
    "    'SSE', 'SE', 'ESE'],[np.cos(np.pi *k/8) for k in range(16)] ).astype(np.float64)\n"
   ]
  },
  {
   "cell_type": "code",
   "execution_count": 5,
   "metadata": {
    "id": "cC3o5ZMzeDaI"
   },
   "outputs": [],
   "source": [
    "# dichotomisation de la variable 'Location'\n",
    "\n",
    "df = df.join(pd.get_dummies(df['Location'],prefix='Loc'))\n",
    "df = df.drop('Location', axis=1)\n"
   ]
  },
  {
   "cell_type": "markdown",
   "metadata": {
    "id": "DTOraCzlBJJv"
   },
   "source": [
    "**Gestion des Nans 'Sunshine', 'Evaporation', 'Cloud3pm', 'Cloud9am' :**\n"
   ]
  },
  {
   "cell_type": "code",
   "execution_count": 6,
   "metadata": {
    "id": "vbpFQ4OwPGju"
   },
   "outputs": [],
   "source": [
    "# suppression des lignes pour lesquelles les variables 'Sunshine','Evaporation','Cloud3pm' et 'Cloud9am' présentent des valeurs manquantes \n",
    "\n",
    "df.dropna(subset=['Sunshine','Evaporation','Cloud3pm','Cloud9am'], inplace=True)\n"
   ]
  },
  {
   "cell_type": "markdown",
   "metadata": {
    "id": "7NpraJQf_TBa"
   },
   "source": [
    "**Séparation du jeu de données en variables explicatives et variable cible :**"
   ]
  },
  {
   "cell_type": "code",
   "execution_count": 7,
   "metadata": {
    "id": "T_RpVrYVROPD"
   },
   "outputs": [],
   "source": [
    "data = df.drop('RainTomorrow', axis=1)\n",
    "target = df['RainTomorrow']\n"
   ]
  },
  {
   "cell_type": "markdown",
   "metadata": {
    "id": "SphLxWEs_fPT"
   },
   "source": [
    "**Séparation des données en jeu d'entraînement et jeu de test :**"
   ]
  },
  {
   "cell_type": "code",
   "execution_count": 8,
   "metadata": {
    "id": "vlkPn_clRZmq"
   },
   "outputs": [],
   "source": [
    "X_train, X_test, y_train, y_test = train_test_split(data, target, test_size=0.2,  random_state=1234)\n"
   ]
  },
  {
   "cell_type": "markdown",
   "metadata": {
    "id": "5KxTcRj3_6sA"
   },
   "source": [
    "**Gestion des valeurs manquantes restantes :**"
   ]
  },
  {
   "cell_type": "code",
   "execution_count": 9,
   "metadata": {
    "id": "7DgPYcF6UuCc"
   },
   "outputs": [
    {
     "name": "stderr",
     "output_type": "stream",
     "text": [
      "C:\\Users\\33661\\AppData\\Local\\Temp/ipykernel_10784/1839007586.py:4: SettingWithCopyWarning: \n",
      "A value is trying to be set on a copy of a slice from a DataFrame.\n",
      "Try using .loc[row_indexer,col_indexer] = value instead\n",
      "\n",
      "See the caveats in the documentation: https://pandas.pydata.org/pandas-docs/stable/user_guide/indexing.html#returning-a-view-versus-a-copy\n",
      "  X_train[var] = X_train[var].fillna(var_mediane)\n",
      "C:\\Users\\33661\\AppData\\Local\\Temp/ipykernel_10784/1839007586.py:11: SettingWithCopyWarning: \n",
      "A value is trying to be set on a copy of a slice from a DataFrame.\n",
      "Try using .loc[row_indexer,col_indexer] = value instead\n",
      "\n",
      "See the caveats in the documentation: https://pandas.pydata.org/pandas-docs/stable/user_guide/indexing.html#returning-a-view-versus-a-copy\n",
      "  X_test[var] = X_test[var].fillna(var_mediane)\n"
     ]
    }
   ],
   "source": [
    "for var in X_train.columns :\n",
    "  if X_train[var].isna().sum() !=0 :\n",
    "    var_mediane = X_train[var].median()\n",
    "    X_train[var] = X_train[var].fillna(var_mediane)\n",
    "\n",
    "X_train.isna().sum().sum()\n",
    "\n",
    "for var in X_test.columns :\n",
    "  if X_test[var].isna().sum() !=0 :\n",
    "    var_mediane = X_test[var].median()\n",
    "    X_test[var] = X_test[var].fillna(var_mediane)\n",
    "    "
   ]
  },
  {
   "cell_type": "code",
   "execution_count": 10,
   "metadata": {
    "colab": {
     "base_uri": "https://localhost:8080/"
    },
    "id": "m0OB-BCFqf6Z",
    "outputId": "eb58c876-56e5-4d99-98c1-3ba668e18c34"
   },
   "outputs": [
    {
     "data": {
      "text/plain": [
       "(0, 0)"
      ]
     },
     "execution_count": 10,
     "metadata": {},
     "output_type": "execute_result"
    }
   ],
   "source": [
    "# Vérification qu'il n'y a plus de valeurs manquantes :\n",
    "\n",
    "X_train.isna().sum().sum(), X_test.isna().sum().sum()\n"
   ]
  },
  {
   "cell_type": "markdown",
   "metadata": {
    "id": "DyZ_QRV5AF5V"
   },
   "source": [
    "**Gestion des outliers :**"
   ]
  },
  {
   "cell_type": "code",
   "execution_count": 11,
   "metadata": {
    "id": "Z60XMkoHpmkg"
   },
   "outputs": [
    {
     "name": "stderr",
     "output_type": "stream",
     "text": [
      "C:\\Users\\33661\\AppData\\Local\\Temp/ipykernel_10784/118492435.py:6: SettingWithCopyWarning: \n",
      "A value is trying to be set on a copy of a slice from a DataFrame.\n",
      "Try using .loc[row_indexer,col_indexer] = value instead\n",
      "\n",
      "See the caveats in the documentation: https://pandas.pydata.org/pandas-docs/stable/user_guide/indexing.html#returning-a-view-versus-a-copy\n",
      "  X_train['Rainfall'] = val_max(X_train, 'Rainfall', 3.2)\n",
      "C:\\Users\\33661\\AppData\\Local\\Temp/ipykernel_10784/118492435.py:7: SettingWithCopyWarning: \n",
      "A value is trying to be set on a copy of a slice from a DataFrame.\n",
      "Try using .loc[row_indexer,col_indexer] = value instead\n",
      "\n",
      "See the caveats in the documentation: https://pandas.pydata.org/pandas-docs/stable/user_guide/indexing.html#returning-a-view-versus-a-copy\n",
      "  X_train['Evaporation'] = val_max(X_train, 'Evaporation', 21.8)\n",
      "C:\\Users\\33661\\AppData\\Local\\Temp/ipykernel_10784/118492435.py:8: SettingWithCopyWarning: \n",
      "A value is trying to be set on a copy of a slice from a DataFrame.\n",
      "Try using .loc[row_indexer,col_indexer] = value instead\n",
      "\n",
      "See the caveats in the documentation: https://pandas.pydata.org/pandas-docs/stable/user_guide/indexing.html#returning-a-view-versus-a-copy\n",
      "  X_train['WindGustSpeed'] = val_max(X_train, 'WindGustSpeed', 99)\n",
      "C:\\Users\\33661\\AppData\\Local\\Temp/ipykernel_10784/118492435.py:9: SettingWithCopyWarning: \n",
      "A value is trying to be set on a copy of a slice from a DataFrame.\n",
      "Try using .loc[row_indexer,col_indexer] = value instead\n",
      "\n",
      "See the caveats in the documentation: https://pandas.pydata.org/pandas-docs/stable/user_guide/indexing.html#returning-a-view-versus-a-copy\n",
      "  X_train['WindSpeed9am'] = val_max(X_train, 'WindSpeed9am', 55)\n",
      "C:\\Users\\33661\\AppData\\Local\\Temp/ipykernel_10784/118492435.py:10: SettingWithCopyWarning: \n",
      "A value is trying to be set on a copy of a slice from a DataFrame.\n",
      "Try using .loc[row_indexer,col_indexer] = value instead\n",
      "\n",
      "See the caveats in the documentation: https://pandas.pydata.org/pandas-docs/stable/user_guide/indexing.html#returning-a-view-versus-a-copy\n",
      "  X_train['WindSpeed3pm'] = val_max(X_train, 'WindSpeed3pm', 57)\n",
      "C:\\Users\\33661\\AppData\\Local\\Temp/ipykernel_10784/118492435.py:13: SettingWithCopyWarning: \n",
      "A value is trying to be set on a copy of a slice from a DataFrame.\n",
      "Try using .loc[row_indexer,col_indexer] = value instead\n",
      "\n",
      "See the caveats in the documentation: https://pandas.pydata.org/pandas-docs/stable/user_guide/indexing.html#returning-a-view-versus-a-copy\n",
      "  X_test['Rainfall'] = val_max(X_test, 'Rainfall', 3.2)\n",
      "C:\\Users\\33661\\AppData\\Local\\Temp/ipykernel_10784/118492435.py:14: SettingWithCopyWarning: \n",
      "A value is trying to be set on a copy of a slice from a DataFrame.\n",
      "Try using .loc[row_indexer,col_indexer] = value instead\n",
      "\n",
      "See the caveats in the documentation: https://pandas.pydata.org/pandas-docs/stable/user_guide/indexing.html#returning-a-view-versus-a-copy\n",
      "  X_test['Evaporation'] = val_max(X_test, 'Evaporation', 21.8)\n",
      "C:\\Users\\33661\\AppData\\Local\\Temp/ipykernel_10784/118492435.py:15: SettingWithCopyWarning: \n",
      "A value is trying to be set on a copy of a slice from a DataFrame.\n",
      "Try using .loc[row_indexer,col_indexer] = value instead\n",
      "\n",
      "See the caveats in the documentation: https://pandas.pydata.org/pandas-docs/stable/user_guide/indexing.html#returning-a-view-versus-a-copy\n",
      "  X_test['WindGustSpeed'] = val_max(X_test, 'WindGustSpeed', 99)\n",
      "C:\\Users\\33661\\AppData\\Local\\Temp/ipykernel_10784/118492435.py:16: SettingWithCopyWarning: \n",
      "A value is trying to be set on a copy of a slice from a DataFrame.\n",
      "Try using .loc[row_indexer,col_indexer] = value instead\n",
      "\n",
      "See the caveats in the documentation: https://pandas.pydata.org/pandas-docs/stable/user_guide/indexing.html#returning-a-view-versus-a-copy\n",
      "  X_test['WindSpeed9am'] = val_max(X_test, 'WindSpeed9am', 55)\n",
      "C:\\Users\\33661\\AppData\\Local\\Temp/ipykernel_10784/118492435.py:17: SettingWithCopyWarning: \n",
      "A value is trying to be set on a copy of a slice from a DataFrame.\n",
      "Try using .loc[row_indexer,col_indexer] = value instead\n",
      "\n",
      "See the caveats in the documentation: https://pandas.pydata.org/pandas-docs/stable/user_guide/indexing.html#returning-a-view-versus-a-copy\n",
      "  X_test['WindSpeed3pm'] = val_max(X_test, 'WindSpeed3pm', 57)\n"
     ]
    }
   ],
   "source": [
    "# Traitement des outliers identifiés dans la partie exploratoire dans les jeux d'entrainement et de test.\n",
    "\n",
    "def val_max(df, var, max) :\n",
    "  return np.where(df[var] > max, max, df[var])\n",
    "\n",
    "X_train['Rainfall'] = val_max(X_train, 'Rainfall', 3.2)\n",
    "X_train['Evaporation'] = val_max(X_train, 'Evaporation', 21.8)\n",
    "X_train['WindGustSpeed'] = val_max(X_train, 'WindGustSpeed', 99)\n",
    "X_train['WindSpeed9am'] = val_max(X_train, 'WindSpeed9am', 55)\n",
    "X_train['WindSpeed3pm'] = val_max(X_train, 'WindSpeed3pm', 57)\n",
    "\n",
    "\n",
    "X_test['Rainfall'] = val_max(X_test, 'Rainfall', 3.2)\n",
    "X_test['Evaporation'] = val_max(X_test, 'Evaporation', 21.8)\n",
    "X_test['WindGustSpeed'] = val_max(X_test, 'WindGustSpeed', 99)\n",
    "X_test['WindSpeed9am'] = val_max(X_test, 'WindSpeed9am', 55)\n",
    "X_test['WindSpeed3pm'] = val_max(X_test, 'WindSpeed3pm', 57)\n"
   ]
  },
  {
   "cell_type": "markdown",
   "metadata": {
    "id": "jc9JLULfASdd"
   },
   "source": [
    "**Standardisation des données :**"
   ]
  },
  {
   "cell_type": "code",
   "execution_count": 12,
   "metadata": {
    "id": "Fh2oP29B4eUM"
   },
   "outputs": [],
   "source": [
    "col = [X_train.columns]\n",
    "\n",
    "scaler = preprocessing.StandardScaler().fit(X_train)\n",
    "X_train = scaler.transform(X_train)\n",
    "X_test = scaler.transform(X_test)\n",
    "\n",
    "X_train = pd.DataFrame(X_train, columns=col)\n",
    "X_test = pd.DataFrame(X_test, columns=col)\n"
   ]
  },
  {
   "cell_type": "markdown",
   "metadata": {
    "id": "ij4afAdwrD9r"
   },
   "source": [
    "# **2. Premier modèle retenu : SVM (C=10, gamma=0.01, kernel='rbf') sur jeu non rééquilibré**\n"
   ]
  },
  {
   "cell_type": "markdown",
   "metadata": {
    "id": "S_jnYn1DC-cP"
   },
   "source": [
    "**entraînement du modèle et prédiction :**"
   ]
  },
  {
   "cell_type": "code",
   "execution_count": 13,
   "metadata": {
    "colab": {
     "base_uri": "https://localhost:8080/",
     "height": 441
    },
    "id": "gdncD2UAYEGj",
    "outputId": "950ff622-0306-4942-e44e-551684562014"
   },
   "outputs": [
    {
     "name": "stdout",
     "output_type": "stream",
     "text": [
      "\n",
      "\n",
      " Rapport de classification :\n",
      "               precision    recall  f1-score   support\n",
      "\n",
      "           0       0.88      0.96      0.92      9647\n",
      "           1       0.79      0.55      0.65      2812\n",
      "\n",
      "    accuracy                           0.87     12459\n",
      "   macro avg       0.83      0.75      0.78     12459\n",
      "weighted avg       0.86      0.87      0.86     12459\n",
      "\n"
     ]
    },
    {
     "data": {
      "text/html": [
       "<div>\n",
       "<style scoped>\n",
       "    .dataframe tbody tr th:only-of-type {\n",
       "        vertical-align: middle;\n",
       "    }\n",
       "\n",
       "    .dataframe tbody tr th {\n",
       "        vertical-align: top;\n",
       "    }\n",
       "\n",
       "    .dataframe thead th {\n",
       "        text-align: right;\n",
       "    }\n",
       "</style>\n",
       "<table border=\"1\" class=\"dataframe\">\n",
       "  <thead>\n",
       "    <tr style=\"text-align: right;\">\n",
       "      <th>classe predite</th>\n",
       "      <th>0</th>\n",
       "      <th>1</th>\n",
       "    </tr>\n",
       "    <tr>\n",
       "      <th>classe réelle</th>\n",
       "      <th></th>\n",
       "      <th></th>\n",
       "    </tr>\n",
       "  </thead>\n",
       "  <tbody>\n",
       "    <tr>\n",
       "      <th>0</th>\n",
       "      <td>9228</td>\n",
       "      <td>419</td>\n",
       "    </tr>\n",
       "    <tr>\n",
       "      <th>1</th>\n",
       "      <td>1257</td>\n",
       "      <td>1555</td>\n",
       "    </tr>\n",
       "  </tbody>\n",
       "</table>\n",
       "</div>"
      ],
      "text/plain": [
       "classe predite     0     1\n",
       "classe réelle             \n",
       "0               9228   419\n",
       "1               1257  1555"
      ]
     },
     "execution_count": 13,
     "metadata": {},
     "output_type": "execute_result"
    }
   ],
   "source": [
    "clf = svm.SVC(C=10, gamma=0.01, kernel='rbf')\n",
    "clf.fit(X_train,y_train)\n",
    "y_pred = clf.predict(X_test)\n",
    "\n",
    "print(\"\\n\\n Rapport de classification :\\n\", classification_report(y_test, y_pred))\n",
    "\n",
    "pd.crosstab(y_test, y_pred, rownames=['classe réelle'], colnames=['classe predite'])\n"
   ]
  },
  {
   "cell_type": "markdown",
   "metadata": {
    "id": "dCD5pyzADLVA"
   },
   "source": [
    "# **3. Analyse des erreurs de prédictions de ce premier modèle**"
   ]
  },
  {
   "cell_type": "markdown",
   "metadata": {
    "id": "Zko2leJwDIak"
   },
   "source": [
    "**Création d'un dataframe contenant uniquement la cible réelle et prédite : df_realite_pred**"
   ]
  },
  {
   "cell_type": "code",
   "execution_count": 14,
   "metadata": {
    "colab": {
     "base_uri": "https://localhost:8080/",
     "height": 224
    },
    "id": "xb4hbMEtbvU2",
    "outputId": "58d14273-fd4b-4261-e081-4ac334a2798c"
   },
   "outputs": [
    {
     "name": "stdout",
     "output_type": "stream",
     "text": [
      "(12459, 2)\n"
     ]
    },
    {
     "data": {
      "text/html": [
       "<div>\n",
       "<style scoped>\n",
       "    .dataframe tbody tr th:only-of-type {\n",
       "        vertical-align: middle;\n",
       "    }\n",
       "\n",
       "    .dataframe tbody tr th {\n",
       "        vertical-align: top;\n",
       "    }\n",
       "\n",
       "    .dataframe thead th {\n",
       "        text-align: right;\n",
       "    }\n",
       "</style>\n",
       "<table border=\"1\" class=\"dataframe\">\n",
       "  <thead>\n",
       "    <tr style=\"text-align: right;\">\n",
       "      <th></th>\n",
       "      <th>Realite</th>\n",
       "      <th>Prediction</th>\n",
       "    </tr>\n",
       "  </thead>\n",
       "  <tbody>\n",
       "    <tr>\n",
       "      <th>100743</th>\n",
       "      <td>0</td>\n",
       "      <td>0</td>\n",
       "    </tr>\n",
       "    <tr>\n",
       "      <th>71205</th>\n",
       "      <td>0</td>\n",
       "      <td>0</td>\n",
       "    </tr>\n",
       "    <tr>\n",
       "      <th>87728</th>\n",
       "      <td>0</td>\n",
       "      <td>0</td>\n",
       "    </tr>\n",
       "    <tr>\n",
       "      <th>139970</th>\n",
       "      <td>0</td>\n",
       "      <td>0</td>\n",
       "    </tr>\n",
       "    <tr>\n",
       "      <th>76944</th>\n",
       "      <td>0</td>\n",
       "      <td>0</td>\n",
       "    </tr>\n",
       "  </tbody>\n",
       "</table>\n",
       "</div>"
      ],
      "text/plain": [
       "        Realite  Prediction\n",
       "100743        0           0\n",
       "71205         0           0\n",
       "87728         0           0\n",
       "139970        0           0\n",
       "76944         0           0"
      ]
     },
     "execution_count": 14,
     "metadata": {},
     "output_type": "execute_result"
    }
   ],
   "source": [
    "df_realite_pred = pd.DataFrame(y_test).rename({'RainTomorrow': 'Realite'}, axis=1)\n",
    "df_realite_pred['Prediction'] = y_pred\n",
    "\n",
    "print(df_realite_pred.shape)\n",
    "df_realite_pred.head()\n"
   ]
  },
  {
   "cell_type": "markdown",
   "metadata": {
    "id": "OmZgy6yiGLr_"
   },
   "source": [
    "## **3.1 Les faux négatifs**"
   ]
  },
  {
   "cell_type": "markdown",
   "metadata": {
    "id": "zbIWa-MEGVIw"
   },
   "source": [
    "**Création d'un tableau contenant uniquement les faux négatifs :**"
   ]
  },
  {
   "cell_type": "code",
   "execution_count": 15,
   "metadata": {
    "colab": {
     "base_uri": "https://localhost:8080/",
     "height": 224
    },
    "id": "C70faeJFgBo1",
    "outputId": "febf1f86-2c30-4a91-9610-3f89b0d7c694"
   },
   "outputs": [
    {
     "name": "stdout",
     "output_type": "stream",
     "text": [
      "(1257, 2)\n"
     ]
    },
    {
     "data": {
      "text/html": [
       "<div>\n",
       "<style scoped>\n",
       "    .dataframe tbody tr th:only-of-type {\n",
       "        vertical-align: middle;\n",
       "    }\n",
       "\n",
       "    .dataframe tbody tr th {\n",
       "        vertical-align: top;\n",
       "    }\n",
       "\n",
       "    .dataframe thead th {\n",
       "        text-align: right;\n",
       "    }\n",
       "</style>\n",
       "<table border=\"1\" class=\"dataframe\">\n",
       "  <thead>\n",
       "    <tr style=\"text-align: right;\">\n",
       "      <th></th>\n",
       "      <th>Realite</th>\n",
       "      <th>Prediction</th>\n",
       "    </tr>\n",
       "  </thead>\n",
       "  <tbody>\n",
       "    <tr>\n",
       "      <th>69190</th>\n",
       "      <td>1</td>\n",
       "      <td>0</td>\n",
       "    </tr>\n",
       "    <tr>\n",
       "      <th>80383</th>\n",
       "      <td>1</td>\n",
       "      <td>0</td>\n",
       "    </tr>\n",
       "    <tr>\n",
       "      <th>30557</th>\n",
       "      <td>1</td>\n",
       "      <td>0</td>\n",
       "    </tr>\n",
       "    <tr>\n",
       "      <th>85237</th>\n",
       "      <td>1</td>\n",
       "      <td>0</td>\n",
       "    </tr>\n",
       "    <tr>\n",
       "      <th>64786</th>\n",
       "      <td>1</td>\n",
       "      <td>0</td>\n",
       "    </tr>\n",
       "  </tbody>\n",
       "</table>\n",
       "</div>"
      ],
      "text/plain": [
       "       Realite  Prediction\n",
       "69190        1           0\n",
       "80383        1           0\n",
       "30557        1           0\n",
       "85237        1           0\n",
       "64786        1           0"
      ]
     },
     "execution_count": 15,
     "metadata": {},
     "output_type": "execute_result"
    }
   ],
   "source": [
    "df_faux_neg = df_realite_pred[(df_realite_pred['Prediction']==0) & (df_realite_pred['Realite']==1)]\n",
    "\n",
    "print(df_faux_neg.shape)\n",
    "df_faux_neg.head()\n"
   ]
  },
  {
   "cell_type": "markdown",
   "metadata": {
    "id": "cf9ZQrXAGfD2"
   },
   "source": [
    "**Ajout à ce tableau des hauteurs de pluie du lendemain :**"
   ]
  },
  {
   "cell_type": "code",
   "execution_count": 16,
   "metadata": {
    "colab": {
     "base_uri": "https://localhost:8080/",
     "height": 310
    },
    "id": "Rpyi4lWLhKej",
    "outputId": "e7a32c51-107b-46e7-977b-b4f75d596cbd"
   },
   "outputs": [
    {
     "name": "stderr",
     "output_type": "stream",
     "text": [
      "C:\\Users\\33661\\AppData\\Local\\Temp/ipykernel_10784/3993921262.py:8: SettingWithCopyWarning: \n",
      "A value is trying to be set on a copy of a slice from a DataFrame.\n",
      "Try using .loc[row_indexer,col_indexer] = value instead\n",
      "\n",
      "See the caveats in the documentation: https://pandas.pydata.org/pandas-docs/stable/user_guide/indexing.html#returning-a-view-versus-a-copy\n",
      "  df_faux_neg['hauteur_pluie_lendemain'] = L\n"
     ]
    },
    {
     "data": {
      "text/html": [
       "<div>\n",
       "<style scoped>\n",
       "    .dataframe tbody tr th:only-of-type {\n",
       "        vertical-align: middle;\n",
       "    }\n",
       "\n",
       "    .dataframe tbody tr th {\n",
       "        vertical-align: top;\n",
       "    }\n",
       "\n",
       "    .dataframe thead th {\n",
       "        text-align: right;\n",
       "    }\n",
       "</style>\n",
       "<table border=\"1\" class=\"dataframe\">\n",
       "  <thead>\n",
       "    <tr style=\"text-align: right;\">\n",
       "      <th></th>\n",
       "      <th>Realite</th>\n",
       "      <th>Prediction</th>\n",
       "      <th>hauteur_pluie_lendemain</th>\n",
       "    </tr>\n",
       "  </thead>\n",
       "  <tbody>\n",
       "    <tr>\n",
       "      <th>69190</th>\n",
       "      <td>1</td>\n",
       "      <td>0</td>\n",
       "      <td>2.2</td>\n",
       "    </tr>\n",
       "    <tr>\n",
       "      <th>80383</th>\n",
       "      <td>1</td>\n",
       "      <td>0</td>\n",
       "      <td>1.8</td>\n",
       "    </tr>\n",
       "    <tr>\n",
       "      <th>30557</th>\n",
       "      <td>1</td>\n",
       "      <td>0</td>\n",
       "      <td>3.8</td>\n",
       "    </tr>\n",
       "    <tr>\n",
       "      <th>85237</th>\n",
       "      <td>1</td>\n",
       "      <td>0</td>\n",
       "      <td>2.0</td>\n",
       "    </tr>\n",
       "    <tr>\n",
       "      <th>64786</th>\n",
       "      <td>1</td>\n",
       "      <td>0</td>\n",
       "      <td>1.2</td>\n",
       "    </tr>\n",
       "  </tbody>\n",
       "</table>\n",
       "</div>"
      ],
      "text/plain": [
       "       Realite  Prediction  hauteur_pluie_lendemain\n",
       "69190        1           0                      2.2\n",
       "80383        1           0                      1.8\n",
       "30557        1           0                      3.8\n",
       "85237        1           0                      2.0\n",
       "64786        1           0                      1.2"
      ]
     },
     "execution_count": 16,
     "metadata": {},
     "output_type": "execute_result"
    }
   ],
   "source": [
    "L = []\n",
    "for i in df_faux_neg.index :\n",
    "  if df_depart.loc[i+1]['Location']==df_depart.loc[i]['Location'] :\n",
    "    L.append(df_depart.loc[i+1]['Rainfall'])\n",
    "  else :\n",
    "    L.append(np.nan)\n",
    "\n",
    "df_faux_neg['hauteur_pluie_lendemain'] = L\n",
    "df_faux_neg.head()\n"
   ]
  },
  {
   "cell_type": "code",
   "execution_count": 17,
   "metadata": {
    "colab": {
     "base_uri": "https://localhost:8080/"
    },
    "id": "4dV8Y08VvOaE",
    "outputId": "7f30e73c-545c-4f57-bca8-4ceccb20b18d"
   },
   "outputs": [
    {
     "data": {
      "text/plain": [
       "Realite                    0\n",
       "Prediction                 0\n",
       "hauteur_pluie_lendemain    1\n",
       "dtype: int64"
      ]
     },
     "execution_count": 17,
     "metadata": {},
     "output_type": "execute_result"
    }
   ],
   "source": [
    "df_faux_neg.isna().sum()"
   ]
  },
  {
   "cell_type": "code",
   "execution_count": 18,
   "metadata": {
    "colab": {
     "base_uri": "https://localhost:8080/"
    },
    "id": "LU3ntNryvVIl",
    "outputId": "cd71e203-61ad-4fd6-a248-beb107a62d6e"
   },
   "outputs": [
    {
     "name": "stderr",
     "output_type": "stream",
     "text": [
      "C:\\Users\\33661\\anaconda3\\lib\\site-packages\\pandas\\util\\_decorators.py:311: SettingWithCopyWarning: \n",
      "A value is trying to be set on a copy of a slice from a DataFrame\n",
      "\n",
      "See the caveats in the documentation: https://pandas.pydata.org/pandas-docs/stable/user_guide/indexing.html#returning-a-view-versus-a-copy\n",
      "  return func(*args, **kwargs)\n"
     ]
    },
    {
     "data": {
      "text/plain": [
       "Realite                    0\n",
       "Prediction                 0\n",
       "hauteur_pluie_lendemain    0\n",
       "dtype: int64"
      ]
     },
     "execution_count": 18,
     "metadata": {},
     "output_type": "execute_result"
    }
   ],
   "source": [
    "df_faux_neg.dropna(inplace=True)\n",
    "df_faux_neg.isna().sum()"
   ]
  },
  {
   "cell_type": "markdown",
   "metadata": {
    "id": "vfvIafUlx_lJ"
   },
   "source": [
    "**Statistiques des faux négatifs :**"
   ]
  },
  {
   "cell_type": "code",
   "execution_count": 19,
   "metadata": {
    "colab": {
     "base_uri": "https://localhost:8080/",
     "height": 300
    },
    "id": "OlJasyW7rfa5",
    "outputId": "3823db80-a5fd-4c9d-aec5-a39f37968a50"
   },
   "outputs": [
    {
     "data": {
      "text/html": [
       "<div>\n",
       "<style scoped>\n",
       "    .dataframe tbody tr th:only-of-type {\n",
       "        vertical-align: middle;\n",
       "    }\n",
       "\n",
       "    .dataframe tbody tr th {\n",
       "        vertical-align: top;\n",
       "    }\n",
       "\n",
       "    .dataframe thead th {\n",
       "        text-align: right;\n",
       "    }\n",
       "</style>\n",
       "<table border=\"1\" class=\"dataframe\">\n",
       "  <thead>\n",
       "    <tr style=\"text-align: right;\">\n",
       "      <th></th>\n",
       "      <th>hauteur_pluie_lendemain</th>\n",
       "    </tr>\n",
       "  </thead>\n",
       "  <tbody>\n",
       "    <tr>\n",
       "      <th>count</th>\n",
       "      <td>1256.000000</td>\n",
       "    </tr>\n",
       "    <tr>\n",
       "      <th>mean</th>\n",
       "      <td>6.505573</td>\n",
       "    </tr>\n",
       "    <tr>\n",
       "      <th>std</th>\n",
       "      <td>9.506017</td>\n",
       "    </tr>\n",
       "    <tr>\n",
       "      <th>min</th>\n",
       "      <td>1.200000</td>\n",
       "    </tr>\n",
       "    <tr>\n",
       "      <th>25%</th>\n",
       "      <td>2.000000</td>\n",
       "    </tr>\n",
       "    <tr>\n",
       "      <th>50%</th>\n",
       "      <td>3.200000</td>\n",
       "    </tr>\n",
       "    <tr>\n",
       "      <th>75%</th>\n",
       "      <td>6.800000</td>\n",
       "    </tr>\n",
       "    <tr>\n",
       "      <th>max</th>\n",
       "      <td>104.800000</td>\n",
       "    </tr>\n",
       "  </tbody>\n",
       "</table>\n",
       "</div>"
      ],
      "text/plain": [
       "       hauteur_pluie_lendemain\n",
       "count              1256.000000\n",
       "mean                  6.505573\n",
       "std                   9.506017\n",
       "min                   1.200000\n",
       "25%                   2.000000\n",
       "50%                   3.200000\n",
       "75%                   6.800000\n",
       "max                 104.800000"
      ]
     },
     "execution_count": 19,
     "metadata": {},
     "output_type": "execute_result"
    }
   ],
   "source": [
    "pd.DataFrame(df_faux_neg['hauteur_pluie_lendemain'].describe())\n"
   ]
  },
  {
   "cell_type": "markdown",
   "metadata": {
    "id": "r-jDtegcwEH2"
   },
   "source": [
    "**Lorsque le modèle ne prévoit pas la pluie du lendemain, la moyenne des hauteurs de précipitations du lendemain est de 6.51 mm.**"
   ]
  },
  {
   "cell_type": "markdown",
   "metadata": {
    "id": "obuNi67P5iqC"
   },
   "source": [
    "## **3.2 Les vrais positifs**"
   ]
  },
  {
   "cell_type": "markdown",
   "metadata": {
    "id": "A4njNcSf5iqD"
   },
   "source": [
    "**Création d'un tableau contenant uniquement les vrais positifs :**"
   ]
  },
  {
   "cell_type": "code",
   "execution_count": 20,
   "metadata": {
    "colab": {
     "base_uri": "https://localhost:8080/",
     "height": 224
    },
    "id": "gJCyCYlV5iqD",
    "outputId": "cc94fb4e-a957-4339-f748-970350c3656d"
   },
   "outputs": [
    {
     "name": "stdout",
     "output_type": "stream",
     "text": [
      "(1555, 2)\n"
     ]
    },
    {
     "data": {
      "text/html": [
       "<div>\n",
       "<style scoped>\n",
       "    .dataframe tbody tr th:only-of-type {\n",
       "        vertical-align: middle;\n",
       "    }\n",
       "\n",
       "    .dataframe tbody tr th {\n",
       "        vertical-align: top;\n",
       "    }\n",
       "\n",
       "    .dataframe thead th {\n",
       "        text-align: right;\n",
       "    }\n",
       "</style>\n",
       "<table border=\"1\" class=\"dataframe\">\n",
       "  <thead>\n",
       "    <tr style=\"text-align: right;\">\n",
       "      <th></th>\n",
       "      <th>Realite</th>\n",
       "      <th>Prediction</th>\n",
       "    </tr>\n",
       "  </thead>\n",
       "  <tbody>\n",
       "    <tr>\n",
       "      <th>64516</th>\n",
       "      <td>1</td>\n",
       "      <td>1</td>\n",
       "    </tr>\n",
       "    <tr>\n",
       "      <th>71906</th>\n",
       "      <td>1</td>\n",
       "      <td>1</td>\n",
       "    </tr>\n",
       "    <tr>\n",
       "      <th>109355</th>\n",
       "      <td>1</td>\n",
       "      <td>1</td>\n",
       "    </tr>\n",
       "    <tr>\n",
       "      <th>42093</th>\n",
       "      <td>1</td>\n",
       "      <td>1</td>\n",
       "    </tr>\n",
       "    <tr>\n",
       "      <th>140082</th>\n",
       "      <td>1</td>\n",
       "      <td>1</td>\n",
       "    </tr>\n",
       "  </tbody>\n",
       "</table>\n",
       "</div>"
      ],
      "text/plain": [
       "        Realite  Prediction\n",
       "64516         1           1\n",
       "71906         1           1\n",
       "109355        1           1\n",
       "42093         1           1\n",
       "140082        1           1"
      ]
     },
     "execution_count": 20,
     "metadata": {},
     "output_type": "execute_result"
    }
   ],
   "source": [
    "df_vrai_pos = df_realite_pred[(df_realite_pred['Prediction']==1) & (df_realite_pred['Realite']==1)]\n",
    "\n",
    "print(df_vrai_pos.shape)\n",
    "df_vrai_pos.head()\n"
   ]
  },
  {
   "cell_type": "markdown",
   "metadata": {
    "id": "OeIx4bAY5iqD"
   },
   "source": [
    "**Ajout à ce tableau des hauteurs de pluie du lendemain :**"
   ]
  },
  {
   "cell_type": "code",
   "execution_count": 21,
   "metadata": {
    "colab": {
     "base_uri": "https://localhost:8080/",
     "height": 310
    },
    "id": "AdtueKbf5iqD",
    "outputId": "194436b8-257b-4f13-fa80-844a2bb778cc"
   },
   "outputs": [
    {
     "name": "stderr",
     "output_type": "stream",
     "text": [
      "C:\\Users\\33661\\AppData\\Local\\Temp/ipykernel_10784/927957372.py:8: SettingWithCopyWarning: \n",
      "A value is trying to be set on a copy of a slice from a DataFrame.\n",
      "Try using .loc[row_indexer,col_indexer] = value instead\n",
      "\n",
      "See the caveats in the documentation: https://pandas.pydata.org/pandas-docs/stable/user_guide/indexing.html#returning-a-view-versus-a-copy\n",
      "  df_vrai_pos['hauteur_pluie_lendemain'] = L\n"
     ]
    },
    {
     "data": {
      "text/html": [
       "<div>\n",
       "<style scoped>\n",
       "    .dataframe tbody tr th:only-of-type {\n",
       "        vertical-align: middle;\n",
       "    }\n",
       "\n",
       "    .dataframe tbody tr th {\n",
       "        vertical-align: top;\n",
       "    }\n",
       "\n",
       "    .dataframe thead th {\n",
       "        text-align: right;\n",
       "    }\n",
       "</style>\n",
       "<table border=\"1\" class=\"dataframe\">\n",
       "  <thead>\n",
       "    <tr style=\"text-align: right;\">\n",
       "      <th></th>\n",
       "      <th>Realite</th>\n",
       "      <th>Prediction</th>\n",
       "      <th>hauteur_pluie_lendemain</th>\n",
       "    </tr>\n",
       "  </thead>\n",
       "  <tbody>\n",
       "    <tr>\n",
       "      <th>64516</th>\n",
       "      <td>1</td>\n",
       "      <td>1</td>\n",
       "      <td>18.0</td>\n",
       "    </tr>\n",
       "    <tr>\n",
       "      <th>71906</th>\n",
       "      <td>1</td>\n",
       "      <td>1</td>\n",
       "      <td>5.8</td>\n",
       "    </tr>\n",
       "    <tr>\n",
       "      <th>109355</th>\n",
       "      <td>1</td>\n",
       "      <td>1</td>\n",
       "      <td>10.8</td>\n",
       "    </tr>\n",
       "    <tr>\n",
       "      <th>42093</th>\n",
       "      <td>1</td>\n",
       "      <td>1</td>\n",
       "      <td>13.6</td>\n",
       "    </tr>\n",
       "    <tr>\n",
       "      <th>140082</th>\n",
       "      <td>1</td>\n",
       "      <td>1</td>\n",
       "      <td>8.6</td>\n",
       "    </tr>\n",
       "  </tbody>\n",
       "</table>\n",
       "</div>"
      ],
      "text/plain": [
       "        Realite  Prediction  hauteur_pluie_lendemain\n",
       "64516         1           1                     18.0\n",
       "71906         1           1                      5.8\n",
       "109355        1           1                     10.8\n",
       "42093         1           1                     13.6\n",
       "140082        1           1                      8.6"
      ]
     },
     "execution_count": 21,
     "metadata": {},
     "output_type": "execute_result"
    }
   ],
   "source": [
    "L = []\n",
    "for i in df_vrai_pos.index :\n",
    "   if df_depart.loc[i+1]['Location']==df_depart.loc[i]['Location'] :\n",
    "    L.append(df_depart.loc[i+1]['Rainfall'])\n",
    "   else :\n",
    "    L.append(np.nan)\n",
    "\n",
    "df_vrai_pos['hauteur_pluie_lendemain'] = L\n",
    "df_vrai_pos.head()\n"
   ]
  },
  {
   "cell_type": "code",
   "execution_count": 22,
   "metadata": {
    "colab": {
     "base_uri": "https://localhost:8080/"
    },
    "id": "epshZ73fvz02",
    "outputId": "e8ca4cc9-360a-4256-e50e-e62b4d5959b0"
   },
   "outputs": [
    {
     "data": {
      "text/plain": [
       "Realite                    0\n",
       "Prediction                 0\n",
       "hauteur_pluie_lendemain    0\n",
       "dtype: int64"
      ]
     },
     "execution_count": 22,
     "metadata": {},
     "output_type": "execute_result"
    }
   ],
   "source": [
    "df_vrai_pos.isna().sum()"
   ]
  },
  {
   "cell_type": "markdown",
   "metadata": {
    "id": "umbtFfSeyPN8"
   },
   "source": [
    "**Statistiques des vrais positifs :**"
   ]
  },
  {
   "cell_type": "code",
   "execution_count": 23,
   "metadata": {
    "colab": {
     "base_uri": "https://localhost:8080/",
     "height": 300
    },
    "id": "QjEFCMXU5iqE",
    "outputId": "151c38d6-7adf-41b2-880e-23e23a14883f"
   },
   "outputs": [
    {
     "data": {
      "text/html": [
       "<div>\n",
       "<style scoped>\n",
       "    .dataframe tbody tr th:only-of-type {\n",
       "        vertical-align: middle;\n",
       "    }\n",
       "\n",
       "    .dataframe tbody tr th {\n",
       "        vertical-align: top;\n",
       "    }\n",
       "\n",
       "    .dataframe thead th {\n",
       "        text-align: right;\n",
       "    }\n",
       "</style>\n",
       "<table border=\"1\" class=\"dataframe\">\n",
       "  <thead>\n",
       "    <tr style=\"text-align: right;\">\n",
       "      <th></th>\n",
       "      <th>hauteur_pluie_lendemain</th>\n",
       "    </tr>\n",
       "  </thead>\n",
       "  <tbody>\n",
       "    <tr>\n",
       "      <th>count</th>\n",
       "      <td>1555.000000</td>\n",
       "    </tr>\n",
       "    <tr>\n",
       "      <th>mean</th>\n",
       "      <td>14.685338</td>\n",
       "    </tr>\n",
       "    <tr>\n",
       "      <th>std</th>\n",
       "      <td>22.525018</td>\n",
       "    </tr>\n",
       "    <tr>\n",
       "      <th>min</th>\n",
       "      <td>1.200000</td>\n",
       "    </tr>\n",
       "    <tr>\n",
       "      <th>25%</th>\n",
       "      <td>3.600000</td>\n",
       "    </tr>\n",
       "    <tr>\n",
       "      <th>50%</th>\n",
       "      <td>7.600000</td>\n",
       "    </tr>\n",
       "    <tr>\n",
       "      <th>75%</th>\n",
       "      <td>16.400000</td>\n",
       "    </tr>\n",
       "    <tr>\n",
       "      <th>max</th>\n",
       "      <td>367.600000</td>\n",
       "    </tr>\n",
       "  </tbody>\n",
       "</table>\n",
       "</div>"
      ],
      "text/plain": [
       "       hauteur_pluie_lendemain\n",
       "count              1555.000000\n",
       "mean                 14.685338\n",
       "std                  22.525018\n",
       "min                   1.200000\n",
       "25%                   3.600000\n",
       "50%                   7.600000\n",
       "75%                  16.400000\n",
       "max                 367.600000"
      ]
     },
     "execution_count": 23,
     "metadata": {},
     "output_type": "execute_result"
    }
   ],
   "source": [
    "pd.DataFrame(df_vrai_pos['hauteur_pluie_lendemain'].describe())\n",
    "\n"
   ]
  },
  {
   "cell_type": "markdown",
   "metadata": {
    "id": "sUoOMHuz5iqF"
   },
   "source": [
    "**Lorsque le modèle prévoit correctement la pluie du lendemain, la moyenne des hauteurs de précipitations du lendemain est de 14.69 mm.**"
   ]
  },
  {
   "cell_type": "markdown",
   "metadata": {
    "id": "oMg4hyRf1-LA"
   },
   "source": [
    "**Bilan - Si dans la réalité il pleut le lendemain, comparaison des hauteurs de précipitations lorsque le modèle prédit ou non la pluie :**"
   ]
  },
  {
   "cell_type": "code",
   "execution_count": 24,
   "metadata": {
    "colab": {
     "base_uri": "https://localhost:8080/",
     "height": 555
    },
    "id": "Jew9ZsXN805j",
    "outputId": "658266af-5a91-448c-e4a6-8e0eff26c7dd"
   },
   "outputs": [
    {
     "data": {
      "text/plain": [
       "''"
      ]
     },
     "execution_count": 24,
     "metadata": {},
     "output_type": "execute_result"
    },
    {
     "data": {
      "image/png": "[encoded data removed]",
      "text/plain": [
       "<Figure size 1008x432 with 1 Axes>"
      ]
     },
     "metadata": {
      "needs_background": "light"
     },
     "output_type": "display_data"
    }
   ],
   "source": [
    "plt.figure (figsize=(14,6))\n",
    "\n",
    "plt.boxplot([df_vrai_pos['hauteur_pluie_lendemain'], df_faux_neg['hauteur_pluie_lendemain']], sym='', vert=False,showmeans=True)\n",
    "plt.xlabel('hauteurs de précipitations en mm', size=13)\n",
    "plt.yticks([1,2],['pluie prédite','pluie non prédite'], size=13)\n",
    "plt.title(\"\\n\\nCas 'il pleut demain dans la réalité' :\\n\\nDiagramme en boite : Comparaison  des hauteurs effectives de précipitations lorsque le modèle prédit ou non la pluie\\n\", size=13)\n",
    ";\n"
   ]
  },
  {
   "cell_type": "markdown",
   "metadata": {
    "id": "gdhRLaFSIktK"
   },
   "source": [
    "**Conclusion - Lorsqu'il pleut dans la réalité le lendemain :**\n",
    "\n",
    "**Ce diagramme en boite montre clairement que lorsque notre premier modèle retenu ne détecte pas la pluie du lendemain, les précipitations sont beaucoup plus faibles que lorsque le modèle la détecte :**\n",
    "\n",
    "*** Si la pluie est détectée, la moyenne des précipitations est de 14.7 mm contre 6.5 mm si elle n'est pas détectée.**\n",
    "\n",
    "*** 25 % des pluies non détectées sont inférieures à 2 mm alors que 25 % des pluies détectées sont inférieures à 3.6 mm (Q1).**\n",
    "\n",
    "*** 50 % des pluies non détectées sont inférieures à 3.2 mm alors que 50 % des pluies détectées sont inférieures à 7.6 mm (médiane).**\n",
    "\n",
    "*** 75 % des pluies non détectées sont inférieures à 6.8 mm alors que 75 % des pluies détectées sont inférieures à 16.4 mm (Q3).**\n",
    "\n"
   ]
  },
  {
   "cell_type": "markdown",
   "metadata": {
    "id": "SZTtfkJYH3bA"
   },
   "source": [
    "## **3.3 Les faux positifs**"
   ]
  },
  {
   "cell_type": "markdown",
   "metadata": {
    "id": "3e06pSNeIBM6"
   },
   "source": [
    "**Création d'un tableau contenant uniquement les faux positifs :**"
   ]
  },
  {
   "cell_type": "code",
   "execution_count": 25,
   "metadata": {
    "colab": {
     "base_uri": "https://localhost:8080/",
     "height": 224
    },
    "id": "2UDdkBVUw92P",
    "outputId": "c8d328b4-b4fe-4727-d1dd-ddee8913894e"
   },
   "outputs": [
    {
     "name": "stdout",
     "output_type": "stream",
     "text": [
      "(419, 2)\n"
     ]
    },
    {
     "data": {
      "text/html": [
       "<div>\n",
       "<style scoped>\n",
       "    .dataframe tbody tr th:only-of-type {\n",
       "        vertical-align: middle;\n",
       "    }\n",
       "\n",
       "    .dataframe tbody tr th {\n",
       "        vertical-align: top;\n",
       "    }\n",
       "\n",
       "    .dataframe thead th {\n",
       "        text-align: right;\n",
       "    }\n",
       "</style>\n",
       "<table border=\"1\" class=\"dataframe\">\n",
       "  <thead>\n",
       "    <tr style=\"text-align: right;\">\n",
       "      <th></th>\n",
       "      <th>Realite</th>\n",
       "      <th>Prediction</th>\n",
       "    </tr>\n",
       "  </thead>\n",
       "  <tbody>\n",
       "    <tr>\n",
       "      <th>34087</th>\n",
       "      <td>0</td>\n",
       "      <td>1</td>\n",
       "    </tr>\n",
       "    <tr>\n",
       "      <th>80419</th>\n",
       "      <td>0</td>\n",
       "      <td>1</td>\n",
       "    </tr>\n",
       "    <tr>\n",
       "      <th>9079</th>\n",
       "      <td>0</td>\n",
       "      <td>1</td>\n",
       "    </tr>\n",
       "    <tr>\n",
       "      <th>39845</th>\n",
       "      <td>0</td>\n",
       "      <td>1</td>\n",
       "    </tr>\n",
       "    <tr>\n",
       "      <th>100802</th>\n",
       "      <td>0</td>\n",
       "      <td>1</td>\n",
       "    </tr>\n",
       "  </tbody>\n",
       "</table>\n",
       "</div>"
      ],
      "text/plain": [
       "        Realite  Prediction\n",
       "34087         0           1\n",
       "80419         0           1\n",
       "9079          0           1\n",
       "39845         0           1\n",
       "100802        0           1"
      ]
     },
     "execution_count": 25,
     "metadata": {},
     "output_type": "execute_result"
    }
   ],
   "source": [
    "df_faux_pos = df_realite_pred[(df_realite_pred['Prediction']==1) & (df_realite_pred['Realite']==0)]\n",
    "\n",
    "print(df_faux_pos.shape)\n",
    "df_faux_pos.head()\n"
   ]
  },
  {
   "cell_type": "markdown",
   "metadata": {
    "id": "SRX8UuaZINAE"
   },
   "source": [
    "\n",
    "**Ajout à ce tableau des hauteurs de pluie du lendemain :**"
   ]
  },
  {
   "cell_type": "code",
   "execution_count": 26,
   "metadata": {
    "colab": {
     "base_uri": "https://localhost:8080/",
     "height": 310
    },
    "id": "vdpE_bU2w-Je",
    "outputId": "b8524256-c646-4a44-9dc2-3a6a13b1dcdf"
   },
   "outputs": [
    {
     "name": "stderr",
     "output_type": "stream",
     "text": [
      "C:\\Users\\33661\\AppData\\Local\\Temp/ipykernel_10784/1630979418.py:7: SettingWithCopyWarning: \n",
      "A value is trying to be set on a copy of a slice from a DataFrame.\n",
      "Try using .loc[row_indexer,col_indexer] = value instead\n",
      "\n",
      "See the caveats in the documentation: https://pandas.pydata.org/pandas-docs/stable/user_guide/indexing.html#returning-a-view-versus-a-copy\n",
      "  df_faux_pos['hauteur_pluie_lendemain'] = L\n"
     ]
    },
    {
     "data": {
      "text/html": [
       "<div>\n",
       "<style scoped>\n",
       "    .dataframe tbody tr th:only-of-type {\n",
       "        vertical-align: middle;\n",
       "    }\n",
       "\n",
       "    .dataframe tbody tr th {\n",
       "        vertical-align: top;\n",
       "    }\n",
       "\n",
       "    .dataframe thead th {\n",
       "        text-align: right;\n",
       "    }\n",
       "</style>\n",
       "<table border=\"1\" class=\"dataframe\">\n",
       "  <thead>\n",
       "    <tr style=\"text-align: right;\">\n",
       "      <th></th>\n",
       "      <th>Realite</th>\n",
       "      <th>Prediction</th>\n",
       "      <th>hauteur_pluie_lendemain</th>\n",
       "    </tr>\n",
       "  </thead>\n",
       "  <tbody>\n",
       "    <tr>\n",
       "      <th>34087</th>\n",
       "      <td>0</td>\n",
       "      <td>1</td>\n",
       "      <td>0.4</td>\n",
       "    </tr>\n",
       "    <tr>\n",
       "      <th>80419</th>\n",
       "      <td>0</td>\n",
       "      <td>1</td>\n",
       "      <td>0.0</td>\n",
       "    </tr>\n",
       "    <tr>\n",
       "      <th>9079</th>\n",
       "      <td>0</td>\n",
       "      <td>1</td>\n",
       "      <td>0.0</td>\n",
       "    </tr>\n",
       "    <tr>\n",
       "      <th>39845</th>\n",
       "      <td>0</td>\n",
       "      <td>1</td>\n",
       "      <td>0.0</td>\n",
       "    </tr>\n",
       "    <tr>\n",
       "      <th>100802</th>\n",
       "      <td>0</td>\n",
       "      <td>1</td>\n",
       "      <td>0.2</td>\n",
       "    </tr>\n",
       "  </tbody>\n",
       "</table>\n",
       "</div>"
      ],
      "text/plain": [
       "        Realite  Prediction  hauteur_pluie_lendemain\n",
       "34087         0           1                      0.4\n",
       "80419         0           1                      0.0\n",
       "9079          0           1                      0.0\n",
       "39845         0           1                      0.0\n",
       "100802        0           1                      0.2"
      ]
     },
     "execution_count": 26,
     "metadata": {},
     "output_type": "execute_result"
    }
   ],
   "source": [
    "L = []\n",
    "for i in df_faux_pos.index :\n",
    "  if df_depart.loc[i+1]['Location']==df_depart.loc[i]['Location'] :\n",
    "    L.append(df_depart.loc[i+1]['Rainfall'])\n",
    "  else :\n",
    "    L.append(np.nan)\n",
    "df_faux_pos['hauteur_pluie_lendemain'] = L\n",
    "df_faux_pos.head()\n"
   ]
  },
  {
   "cell_type": "code",
   "execution_count": 27,
   "metadata": {
    "colab": {
     "base_uri": "https://localhost:8080/"
    },
    "id": "o6UbSQLswvdD",
    "outputId": "1f3be48a-f7de-4810-d430-c5a45d291d30"
   },
   "outputs": [
    {
     "data": {
      "text/plain": [
       "Realite                    0\n",
       "Prediction                 0\n",
       "hauteur_pluie_lendemain    0\n",
       "dtype: int64"
      ]
     },
     "execution_count": 27,
     "metadata": {},
     "output_type": "execute_result"
    }
   ],
   "source": [
    "df_faux_pos.isna().sum()"
   ]
  },
  {
   "cell_type": "markdown",
   "metadata": {
    "id": "Izr1-QC8yXFB"
   },
   "source": [
    "**Statistiques des faux positifs :**"
   ]
  },
  {
   "cell_type": "code",
   "execution_count": 28,
   "metadata": {
    "colab": {
     "base_uri": "https://localhost:8080/",
     "height": 300
    },
    "id": "8216OV3Iw-TJ",
    "outputId": "303a628e-678a-4975-d05d-486db4fcbfc2"
   },
   "outputs": [
    {
     "data": {
      "text/html": [
       "<div>\n",
       "<style scoped>\n",
       "    .dataframe tbody tr th:only-of-type {\n",
       "        vertical-align: middle;\n",
       "    }\n",
       "\n",
       "    .dataframe tbody tr th {\n",
       "        vertical-align: top;\n",
       "    }\n",
       "\n",
       "    .dataframe thead th {\n",
       "        text-align: right;\n",
       "    }\n",
       "</style>\n",
       "<table border=\"1\" class=\"dataframe\">\n",
       "  <thead>\n",
       "    <tr style=\"text-align: right;\">\n",
       "      <th></th>\n",
       "      <th>hauteur_pluie_lendemain</th>\n",
       "    </tr>\n",
       "  </thead>\n",
       "  <tbody>\n",
       "    <tr>\n",
       "      <th>count</th>\n",
       "      <td>419.000000</td>\n",
       "    </tr>\n",
       "    <tr>\n",
       "      <th>mean</th>\n",
       "      <td>0.359189</td>\n",
       "    </tr>\n",
       "    <tr>\n",
       "      <th>std</th>\n",
       "      <td>0.341374</td>\n",
       "    </tr>\n",
       "    <tr>\n",
       "      <th>min</th>\n",
       "      <td>0.000000</td>\n",
       "    </tr>\n",
       "    <tr>\n",
       "      <th>25%</th>\n",
       "      <td>0.000000</td>\n",
       "    </tr>\n",
       "    <tr>\n",
       "      <th>50%</th>\n",
       "      <td>0.300000</td>\n",
       "    </tr>\n",
       "    <tr>\n",
       "      <th>75%</th>\n",
       "      <td>0.600000</td>\n",
       "    </tr>\n",
       "    <tr>\n",
       "      <th>max</th>\n",
       "      <td>1.000000</td>\n",
       "    </tr>\n",
       "  </tbody>\n",
       "</table>\n",
       "</div>"
      ],
      "text/plain": [
       "       hauteur_pluie_lendemain\n",
       "count               419.000000\n",
       "mean                  0.359189\n",
       "std                   0.341374\n",
       "min                   0.000000\n",
       "25%                   0.000000\n",
       "50%                   0.300000\n",
       "75%                   0.600000\n",
       "max                   1.000000"
      ]
     },
     "execution_count": 28,
     "metadata": {},
     "output_type": "execute_result"
    }
   ],
   "source": [
    "pd.DataFrame(df_faux_pos['hauteur_pluie_lendemain'].describe())\n"
   ]
  },
  {
   "cell_type": "code",
   "execution_count": 29,
   "metadata": {
    "colab": {
     "base_uri": "https://localhost:8080/"
    },
    "id": "X9RrryY9yZ8Y",
    "outputId": "c04dde9f-7216-41ae-a3f6-f79db823b403"
   },
   "outputs": [
    {
     "name": "stdout",
     "output_type": "stream",
     "text": [
      "Dans 66.59 % des cas de faux positifs il y a tout de même de petites pluies (inférieures au seuil de 1 mm).\n",
      "\n"
     ]
    }
   ],
   "source": [
    "p_FP = df_faux_pos[df_faux_pos['hauteur_pluie_lendemain']!=0].shape[0]/df_faux_pos.shape[0]*100\n",
    "\n",
    "print('Dans',np.round(p_FP,2), '% des cas de faux positifs il y a tout de même de petites pluies (inférieures au seuil de 1 mm).\\n')\n"
   ]
  },
  {
   "cell_type": "markdown",
   "metadata": {
    "id": "eQ35AkaHJxAj"
   },
   "source": [
    "**Conclusion :**\n",
    "\n",
    "**Lorsque le modèle prévoit par erreur la pluie du lendemain, il y a tout de même de légères précipitations dans 66.59 % des cas mais de hauteur inférieure à 1mm, le seuil arbitrairement choisi (rappel : ne sont comptabilisées comme 'OUI' dans 'Rain Tomorrow' que les précipitations supérieures au seuil de 1 mm)**.\n",
    "\n",
    "**La moyenne des hauteurs de précipitations du lendemain n'est donc pas nulle et vaut 0.36 mm.**\n"
   ]
  },
  {
   "cell_type": "markdown",
   "metadata": {
    "id": "DEurQgwhPAwU"
   },
   "source": [
    "## **3.4 Les vrais négatifs**"
   ]
  },
  {
   "cell_type": "markdown",
   "metadata": {
    "id": "Wi_PlRI0PP_e"
   },
   "source": [
    "**Création d'un tableau contenant uniquement les vrais négatifs :**"
   ]
  },
  {
   "cell_type": "code",
   "execution_count": 30,
   "metadata": {
    "colab": {
     "base_uri": "https://localhost:8080/",
     "height": 224
    },
    "id": "WP5975T1PUtJ",
    "outputId": "00c37200-ab03-4f3b-804c-267f4982d96e"
   },
   "outputs": [
    {
     "name": "stdout",
     "output_type": "stream",
     "text": [
      "(9228, 2)\n"
     ]
    },
    {
     "data": {
      "text/html": [
       "<div>\n",
       "<style scoped>\n",
       "    .dataframe tbody tr th:only-of-type {\n",
       "        vertical-align: middle;\n",
       "    }\n",
       "\n",
       "    .dataframe tbody tr th {\n",
       "        vertical-align: top;\n",
       "    }\n",
       "\n",
       "    .dataframe thead th {\n",
       "        text-align: right;\n",
       "    }\n",
       "</style>\n",
       "<table border=\"1\" class=\"dataframe\">\n",
       "  <thead>\n",
       "    <tr style=\"text-align: right;\">\n",
       "      <th></th>\n",
       "      <th>Realite</th>\n",
       "      <th>Prediction</th>\n",
       "    </tr>\n",
       "  </thead>\n",
       "  <tbody>\n",
       "    <tr>\n",
       "      <th>100743</th>\n",
       "      <td>0</td>\n",
       "      <td>0</td>\n",
       "    </tr>\n",
       "    <tr>\n",
       "      <th>71205</th>\n",
       "      <td>0</td>\n",
       "      <td>0</td>\n",
       "    </tr>\n",
       "    <tr>\n",
       "      <th>87728</th>\n",
       "      <td>0</td>\n",
       "      <td>0</td>\n",
       "    </tr>\n",
       "    <tr>\n",
       "      <th>139970</th>\n",
       "      <td>0</td>\n",
       "      <td>0</td>\n",
       "    </tr>\n",
       "    <tr>\n",
       "      <th>76944</th>\n",
       "      <td>0</td>\n",
       "      <td>0</td>\n",
       "    </tr>\n",
       "  </tbody>\n",
       "</table>\n",
       "</div>"
      ],
      "text/plain": [
       "        Realite  Prediction\n",
       "100743        0           0\n",
       "71205         0           0\n",
       "87728         0           0\n",
       "139970        0           0\n",
       "76944         0           0"
      ]
     },
     "execution_count": 30,
     "metadata": {},
     "output_type": "execute_result"
    }
   ],
   "source": [
    "df_vrai_neg = df_realite_pred[(df_realite_pred['Prediction']==0) & (df_realite_pred['Realite']==0)]\n",
    "\n",
    "print(df_vrai_neg.shape)\n",
    "df_vrai_neg.head()\n"
   ]
  },
  {
   "cell_type": "markdown",
   "metadata": {
    "id": "087mMKEWPlzH"
   },
   "source": [
    "**Ajout à ce tableau des hauteurs de pluie du lendemain :**"
   ]
  },
  {
   "cell_type": "code",
   "execution_count": 31,
   "metadata": {
    "colab": {
     "base_uri": "https://localhost:8080/",
     "height": 310
    },
    "id": "GS6itZbl1GHy",
    "outputId": "3eb1510e-b656-47f1-be42-ce4f92ff8a5f"
   },
   "outputs": [
    {
     "name": "stderr",
     "output_type": "stream",
     "text": [
      "C:\\Users\\33661\\AppData\\Local\\Temp/ipykernel_10784/1057322026.py:8: SettingWithCopyWarning: \n",
      "A value is trying to be set on a copy of a slice from a DataFrame.\n",
      "Try using .loc[row_indexer,col_indexer] = value instead\n",
      "\n",
      "See the caveats in the documentation: https://pandas.pydata.org/pandas-docs/stable/user_guide/indexing.html#returning-a-view-versus-a-copy\n",
      "  df_vrai_neg['hauteur_pluie_lendemain'] = L\n"
     ]
    },
    {
     "data": {
      "text/html": [
       "<div>\n",
       "<style scoped>\n",
       "    .dataframe tbody tr th:only-of-type {\n",
       "        vertical-align: middle;\n",
       "    }\n",
       "\n",
       "    .dataframe tbody tr th {\n",
       "        vertical-align: top;\n",
       "    }\n",
       "\n",
       "    .dataframe thead th {\n",
       "        text-align: right;\n",
       "    }\n",
       "</style>\n",
       "<table border=\"1\" class=\"dataframe\">\n",
       "  <thead>\n",
       "    <tr style=\"text-align: right;\">\n",
       "      <th></th>\n",
       "      <th>Realite</th>\n",
       "      <th>Prediction</th>\n",
       "      <th>hauteur_pluie_lendemain</th>\n",
       "    </tr>\n",
       "  </thead>\n",
       "  <tbody>\n",
       "    <tr>\n",
       "      <th>100743</th>\n",
       "      <td>0</td>\n",
       "      <td>0</td>\n",
       "      <td>0.2</td>\n",
       "    </tr>\n",
       "    <tr>\n",
       "      <th>71205</th>\n",
       "      <td>0</td>\n",
       "      <td>0</td>\n",
       "      <td>0.0</td>\n",
       "    </tr>\n",
       "    <tr>\n",
       "      <th>87728</th>\n",
       "      <td>0</td>\n",
       "      <td>0</td>\n",
       "      <td>0.2</td>\n",
       "    </tr>\n",
       "    <tr>\n",
       "      <th>139970</th>\n",
       "      <td>0</td>\n",
       "      <td>0</td>\n",
       "      <td>0.0</td>\n",
       "    </tr>\n",
       "    <tr>\n",
       "      <th>76944</th>\n",
       "      <td>0</td>\n",
       "      <td>0</td>\n",
       "      <td>0.6</td>\n",
       "    </tr>\n",
       "  </tbody>\n",
       "</table>\n",
       "</div>"
      ],
      "text/plain": [
       "        Realite  Prediction  hauteur_pluie_lendemain\n",
       "100743        0           0                      0.2\n",
       "71205         0           0                      0.0\n",
       "87728         0           0                      0.2\n",
       "139970        0           0                      0.0\n",
       "76944         0           0                      0.6"
      ]
     },
     "execution_count": 31,
     "metadata": {},
     "output_type": "execute_result"
    }
   ],
   "source": [
    "L = []\n",
    "for i in df_vrai_neg.index :\n",
    "  if df_depart.loc[i+1]['Location']==df_depart.loc[i]['Location'] :\n",
    "    L.append(df_depart.loc[i+1]['Rainfall'])\n",
    "  else :\n",
    "    L.append(np.nan)\n",
    "    \n",
    "df_vrai_neg['hauteur_pluie_lendemain'] = L\n",
    "df_vrai_neg.head()\n"
   ]
  },
  {
   "cell_type": "code",
   "execution_count": 32,
   "metadata": {
    "colab": {
     "base_uri": "https://localhost:8080/"
    },
    "id": "_RpPzVDrxC4e",
    "outputId": "1fb1c8fc-0bcb-4424-ba90-3ada80aa8655"
   },
   "outputs": [
    {
     "data": {
      "text/plain": [
       "Realite                    0\n",
       "Prediction                 0\n",
       "hauteur_pluie_lendemain    3\n",
       "dtype: int64"
      ]
     },
     "execution_count": 32,
     "metadata": {},
     "output_type": "execute_result"
    }
   ],
   "source": [
    "df_vrai_neg.isna().sum()"
   ]
  },
  {
   "cell_type": "code",
   "execution_count": 33,
   "metadata": {
    "colab": {
     "base_uri": "https://localhost:8080/"
    },
    "id": "mHXLr8ElxFwN",
    "outputId": "26e43af2-d965-44ab-e993-142ccfd70402"
   },
   "outputs": [
    {
     "name": "stderr",
     "output_type": "stream",
     "text": [
      "C:\\Users\\33661\\anaconda3\\lib\\site-packages\\pandas\\util\\_decorators.py:311: SettingWithCopyWarning: \n",
      "A value is trying to be set on a copy of a slice from a DataFrame\n",
      "\n",
      "See the caveats in the documentation: https://pandas.pydata.org/pandas-docs/stable/user_guide/indexing.html#returning-a-view-versus-a-copy\n",
      "  return func(*args, **kwargs)\n"
     ]
    },
    {
     "data": {
      "text/plain": [
       "Realite                    0\n",
       "Prediction                 0\n",
       "hauteur_pluie_lendemain    0\n",
       "dtype: int64"
      ]
     },
     "execution_count": 33,
     "metadata": {},
     "output_type": "execute_result"
    }
   ],
   "source": [
    "df_vrai_neg.dropna(inplace=True)\n",
    "df_vrai_neg.isna().sum()"
   ]
  },
  {
   "cell_type": "markdown",
   "metadata": {
    "id": "HsmWW82Xyd9y"
   },
   "source": [
    "**Statistiques des vrais négatifs :**"
   ]
  },
  {
   "cell_type": "code",
   "execution_count": 34,
   "metadata": {
    "colab": {
     "base_uri": "https://localhost:8080/",
     "height": 300
    },
    "id": "5gtoCdwF1GbV",
    "outputId": "fca7b70e-d237-4112-f89e-6beebbc13c98"
   },
   "outputs": [
    {
     "data": {
      "text/html": [
       "<div>\n",
       "<style scoped>\n",
       "    .dataframe tbody tr th:only-of-type {\n",
       "        vertical-align: middle;\n",
       "    }\n",
       "\n",
       "    .dataframe tbody tr th {\n",
       "        vertical-align: top;\n",
       "    }\n",
       "\n",
       "    .dataframe thead th {\n",
       "        text-align: right;\n",
       "    }\n",
       "</style>\n",
       "<table border=\"1\" class=\"dataframe\">\n",
       "  <thead>\n",
       "    <tr style=\"text-align: right;\">\n",
       "      <th></th>\n",
       "      <th>hauteur_pluie_lendemain</th>\n",
       "    </tr>\n",
       "  </thead>\n",
       "  <tbody>\n",
       "    <tr>\n",
       "      <th>count</th>\n",
       "      <td>9225.000000</td>\n",
       "    </tr>\n",
       "    <tr>\n",
       "      <th>mean</th>\n",
       "      <td>0.062190</td>\n",
       "    </tr>\n",
       "    <tr>\n",
       "      <th>std</th>\n",
       "      <td>0.181396</td>\n",
       "    </tr>\n",
       "    <tr>\n",
       "      <th>min</th>\n",
       "      <td>0.000000</td>\n",
       "    </tr>\n",
       "    <tr>\n",
       "      <th>25%</th>\n",
       "      <td>0.000000</td>\n",
       "    </tr>\n",
       "    <tr>\n",
       "      <th>50%</th>\n",
       "      <td>0.000000</td>\n",
       "    </tr>\n",
       "    <tr>\n",
       "      <th>75%</th>\n",
       "      <td>0.000000</td>\n",
       "    </tr>\n",
       "    <tr>\n",
       "      <th>max</th>\n",
       "      <td>1.000000</td>\n",
       "    </tr>\n",
       "  </tbody>\n",
       "</table>\n",
       "</div>"
      ],
      "text/plain": [
       "       hauteur_pluie_lendemain\n",
       "count              9225.000000\n",
       "mean                  0.062190\n",
       "std                   0.181396\n",
       "min                   0.000000\n",
       "25%                   0.000000\n",
       "50%                   0.000000\n",
       "75%                   0.000000\n",
       "max                   1.000000"
      ]
     },
     "execution_count": 34,
     "metadata": {},
     "output_type": "execute_result"
    }
   ],
   "source": [
    "pd.DataFrame(df_vrai_neg['hauteur_pluie_lendemain'].describe())\n"
   ]
  },
  {
   "cell_type": "code",
   "execution_count": 35,
   "metadata": {
    "colab": {
     "base_uri": "https://localhost:8080/"
    },
    "id": "or_ImbFgQ4a5",
    "outputId": "e790687f-0920-4eca-8139-228f9776486e"
   },
   "outputs": [
    {
     "name": "stdout",
     "output_type": "stream",
     "text": [
      "Dans 14.46 % des cas de vrais négatifs il y a tout de même de petites pluies (inférieures à 1 mm).\n",
      "\n"
     ]
    }
   ],
   "source": [
    "p_VN = df_vrai_neg[df_vrai_neg['hauteur_pluie_lendemain']!=0].shape[0]/df_vrai_neg.shape[0]*100\n",
    "\n",
    "print('Dans',np.round(p_VN,2), '% des cas de vrais négatifs il y a tout de même de petites pluies (inférieures à 1 mm).\\n')\n"
   ]
  },
  {
   "cell_type": "code",
   "execution_count": 36,
   "metadata": {
    "colab": {
     "base_uri": "https://localhost:8080/",
     "height": 446
    },
    "id": "5wqe-rc940-q",
    "outputId": "ce7b0b55-cdb6-4db6-9935-85b3d3dc97a7"
   },
   "outputs": [
    {
     "data": {
      "image/png": "[encoded data removed]",
      "text/plain": [
       "<Figure size 1296x432 with 2 Axes>"
      ]
     },
     "metadata": {
      "needs_background": "light"
     },
     "output_type": "display_data"
    }
   ],
   "source": [
    "x = ['Vrais négatifs', 'Faux positifs']\n",
    "y = [p_VN, p_FP]\n",
    "z = [df_vrai_neg['hauteur_pluie_lendemain'].mean(), df_faux_pos['hauteur_pluie_lendemain'].mean()]\n",
    "c = ['green','red']\n",
    "\n",
    "plt.figure(figsize=(18,6))\n",
    "\n",
    "plt.subplot(1,2,1)\n",
    "plt.bar(x,y, width=0.6, color=c)\n",
    "plt.ylabel('Fréquence en %', size=15)\n",
    "plt.xticks(size=15)\n",
    "plt.title(\"Cas 'il ne pleut pas demain dans la réalité' :\\n\\nPrésence de précipitations non nulles de hauteur inférieure à 1 mm \\n\", size=15);\n",
    "\n",
    "plt.subplot(1,2,2)\n",
    "plt.bar(x,z, width=0.6, color=c)\n",
    "plt.ylabel('moyenne en mm', size=15)\n",
    "plt.xticks(size=15)\n",
    "plt.title(\"Cas 'il ne pleut pas demain dans la réalité' :\\n\\nMoyenne des précipitations non nulles de hauteur inférieure à 1 mm \\n\", size=15);\n",
    "\n",
    "\n"
   ]
  },
  {
   "cell_type": "markdown",
   "metadata": {
    "id": "h2xKqFwbQuSQ"
   },
   "source": [
    "**Conclusion dans le cas où dans la réalité il ne pleut pas le lendemain :**\n",
    "\n",
    "\n",
    "\n",
    "**Lorsque le modèle prévoit avec justesse qu'il ne pleut pas le lendemain, il y a tout de même de légères précipitations dans 14.46 % des cas contre 66.59 % des cas lorsque le modèle prévoit par erreur la pluie.**\n",
    "\n",
    "**Lorsque le modèle prévoit avec exactitude qu'il ne pleut pas, la moyenne des hauteurs de précipitations du lendemain est de 0.06 mm. Mais lorsque le modèle prévoit à tort qu'il va pleuvoir, la moyenne des hauteurs de précipitations du lendemain est plus élevée et est de 0.36 mm .**\n",
    "\n",
    "**Les faibles précipitations (inférieures à 1 mm, non comptabilisées pour la pluie) incitent le modèle à se tromper en indiquant qu'il va pleuvoir le lendemain.**"
   ]
  },
  {
   "cell_type": "markdown",
   "metadata": {
    "id": "aRCtLXBs9Ibi"
   },
   "source": [
    "# **4. Deuxième modèle retenu SVM (C=7, gamma=0.01, kernel='rbf') sur jeu rééquilibré**"
   ]
  },
  {
   "cell_type": "markdown",
   "metadata": {
    "id": "4dW0YDMyTpo5"
   },
   "source": [
    "**Rééquilibrage des classes :**"
   ]
  },
  {
   "cell_type": "code",
   "execution_count": 37,
   "metadata": {
    "colab": {
     "base_uri": "https://localhost:8080/"
    },
    "id": "64nDorGN9MB5",
    "outputId": "44f6e4b0-7ce0-4056-af71-b62ff3b3d6ce"
   },
   "outputs": [
    {
     "name": "stdout",
     "output_type": "stream",
     "text": [
      "y_ru : \n",
      " 0    11097\n",
      "1    11097\n",
      "Name: RainTomorrow, dtype: int64 \n",
      "\n"
     ]
    }
   ],
   "source": [
    "from imblearn.under_sampling import RandomUnderSampler\n",
    "from imblearn.metrics import classification_report_imbalanced, geometric_mean_score\n",
    "from sklearn.metrics import f1_score\n",
    "\n",
    "rUs = RandomUnderSampler(random_state=28)\n",
    "X_ru, y_ru = rUs.fit_resample(X_train,y_train)\n",
    "\n",
    "print('y_ru : \\n',y_ru.value_counts(), '\\n')\n"
   ]
  },
  {
   "cell_type": "markdown",
   "metadata": {
    "id": "bjszaA0CT427"
   },
   "source": [
    "**Entraînement du modèle et prédiction :**"
   ]
  },
  {
   "cell_type": "code",
   "execution_count": 38,
   "metadata": {
    "colab": {
     "base_uri": "https://localhost:8080/",
     "height": 441
    },
    "id": "8v-8kzi7phez",
    "outputId": "a4260679-7afb-4ba3-f1f6-86a6945ed182"
   },
   "outputs": [
    {
     "name": "stdout",
     "output_type": "stream",
     "text": [
      "\n",
      "\n",
      " Rapport de classification :\n",
      "               precision    recall  f1-score   support\n",
      "\n",
      "           0       0.94      0.81      0.87      9647\n",
      "           1       0.56      0.82      0.67      2812\n",
      "\n",
      "    accuracy                           0.82     12459\n",
      "   macro avg       0.75      0.82      0.77     12459\n",
      "weighted avg       0.85      0.82      0.83     12459\n",
      "\n"
     ]
    },
    {
     "data": {
      "text/html": [
       "<div>\n",
       "<style scoped>\n",
       "    .dataframe tbody tr th:only-of-type {\n",
       "        vertical-align: middle;\n",
       "    }\n",
       "\n",
       "    .dataframe tbody tr th {\n",
       "        vertical-align: top;\n",
       "    }\n",
       "\n",
       "    .dataframe thead th {\n",
       "        text-align: right;\n",
       "    }\n",
       "</style>\n",
       "<table border=\"1\" class=\"dataframe\">\n",
       "  <thead>\n",
       "    <tr style=\"text-align: right;\">\n",
       "      <th>classe predite</th>\n",
       "      <th>0</th>\n",
       "      <th>1</th>\n",
       "    </tr>\n",
       "    <tr>\n",
       "      <th>classe réelle</th>\n",
       "      <th></th>\n",
       "      <th></th>\n",
       "    </tr>\n",
       "  </thead>\n",
       "  <tbody>\n",
       "    <tr>\n",
       "      <th>0</th>\n",
       "      <td>7859</td>\n",
       "      <td>1788</td>\n",
       "    </tr>\n",
       "    <tr>\n",
       "      <th>1</th>\n",
       "      <td>506</td>\n",
       "      <td>2306</td>\n",
       "    </tr>\n",
       "  </tbody>\n",
       "</table>\n",
       "</div>"
      ],
      "text/plain": [
       "classe predite     0     1\n",
       "classe réelle             \n",
       "0               7859  1788\n",
       "1                506  2306"
      ]
     },
     "execution_count": 38,
     "metadata": {},
     "output_type": "execute_result"
    }
   ],
   "source": [
    "clf = svm.SVC(C=7, gamma=0.01, kernel='rbf')\n",
    "clf.fit(X_ru, y_ru)\n",
    "y_pred = clf.predict(X_test)\n",
    "\n",
    "print(\"\\n\\n Rapport de classification :\\n\", classification_report(y_test, y_pred))\n",
    "pd.crosstab(y_test,y_pred, rownames=['classe réelle'], colnames=['classe predite'])\n"
   ]
  },
  {
   "cell_type": "markdown",
   "metadata": {
    "id": "5kKiz4G3VCMO"
   },
   "source": [
    "# **5. Analyse des erreurs de prédictions de ce deuxième modèle**"
   ]
  },
  {
   "cell_type": "markdown",
   "metadata": {
    "id": "DUJTQ76iVCMP"
   },
   "source": [
    "**Création d'un dataframe contenant uniquement la cible réelle et prédite : df_realite_pred**"
   ]
  },
  {
   "cell_type": "code",
   "execution_count": 39,
   "metadata": {
    "colab": {
     "base_uri": "https://localhost:8080/",
     "height": 224
    },
    "id": "nMFlk8fPVCMQ",
    "outputId": "f65d8d17-86c8-43bb-db01-b614fd5548b5"
   },
   "outputs": [
    {
     "name": "stdout",
     "output_type": "stream",
     "text": [
      "(12459, 2)\n"
     ]
    },
    {
     "data": {
      "text/html": [
       "<div>\n",
       "<style scoped>\n",
       "    .dataframe tbody tr th:only-of-type {\n",
       "        vertical-align: middle;\n",
       "    }\n",
       "\n",
       "    .dataframe tbody tr th {\n",
       "        vertical-align: top;\n",
       "    }\n",
       "\n",
       "    .dataframe thead th {\n",
       "        text-align: right;\n",
       "    }\n",
       "</style>\n",
       "<table border=\"1\" class=\"dataframe\">\n",
       "  <thead>\n",
       "    <tr style=\"text-align: right;\">\n",
       "      <th></th>\n",
       "      <th>Realite</th>\n",
       "      <th>Prediction</th>\n",
       "    </tr>\n",
       "  </thead>\n",
       "  <tbody>\n",
       "    <tr>\n",
       "      <th>100743</th>\n",
       "      <td>0</td>\n",
       "      <td>0</td>\n",
       "    </tr>\n",
       "    <tr>\n",
       "      <th>71205</th>\n",
       "      <td>0</td>\n",
       "      <td>0</td>\n",
       "    </tr>\n",
       "    <tr>\n",
       "      <th>87728</th>\n",
       "      <td>0</td>\n",
       "      <td>1</td>\n",
       "    </tr>\n",
       "    <tr>\n",
       "      <th>139970</th>\n",
       "      <td>0</td>\n",
       "      <td>0</td>\n",
       "    </tr>\n",
       "    <tr>\n",
       "      <th>76944</th>\n",
       "      <td>0</td>\n",
       "      <td>0</td>\n",
       "    </tr>\n",
       "  </tbody>\n",
       "</table>\n",
       "</div>"
      ],
      "text/plain": [
       "        Realite  Prediction\n",
       "100743        0           0\n",
       "71205         0           0\n",
       "87728         0           1\n",
       "139970        0           0\n",
       "76944         0           0"
      ]
     },
     "execution_count": 39,
     "metadata": {},
     "output_type": "execute_result"
    }
   ],
   "source": [
    "df_realite_pred = pd.DataFrame(y_test).rename({'RainTomorrow': 'Realite'}, axis=1)\n",
    "df_realite_pred['Prediction'] = y_pred\n",
    "\n",
    "print(df_realite_pred.shape)\n",
    "df_realite_pred.head()\n"
   ]
  },
  {
   "cell_type": "markdown",
   "metadata": {
    "id": "dQlbRuSdVCMR"
   },
   "source": [
    "## **5.1 Les faux négatifs**"
   ]
  },
  {
   "cell_type": "markdown",
   "metadata": {
    "id": "nxHPO-BAVCMS"
   },
   "source": [
    "**Création d'un tableau contenant uniquement les faux négatifs :**"
   ]
  },
  {
   "cell_type": "code",
   "execution_count": 40,
   "metadata": {
    "colab": {
     "base_uri": "https://localhost:8080/",
     "height": 224
    },
    "id": "EQi-TT-GVCMS",
    "outputId": "0a36477a-db8c-4490-e33e-e025fc69d1de"
   },
   "outputs": [
    {
     "name": "stdout",
     "output_type": "stream",
     "text": [
      "(506, 2)\n"
     ]
    },
    {
     "data": {
      "text/html": [
       "<div>\n",
       "<style scoped>\n",
       "    .dataframe tbody tr th:only-of-type {\n",
       "        vertical-align: middle;\n",
       "    }\n",
       "\n",
       "    .dataframe tbody tr th {\n",
       "        vertical-align: top;\n",
       "    }\n",
       "\n",
       "    .dataframe thead th {\n",
       "        text-align: right;\n",
       "    }\n",
       "</style>\n",
       "<table border=\"1\" class=\"dataframe\">\n",
       "  <thead>\n",
       "    <tr style=\"text-align: right;\">\n",
       "      <th></th>\n",
       "      <th>Realite</th>\n",
       "      <th>Prediction</th>\n",
       "    </tr>\n",
       "  </thead>\n",
       "  <tbody>\n",
       "    <tr>\n",
       "      <th>85237</th>\n",
       "      <td>1</td>\n",
       "      <td>0</td>\n",
       "    </tr>\n",
       "    <tr>\n",
       "      <th>35754</th>\n",
       "      <td>1</td>\n",
       "      <td>0</td>\n",
       "    </tr>\n",
       "    <tr>\n",
       "      <th>140006</th>\n",
       "      <td>1</td>\n",
       "      <td>0</td>\n",
       "    </tr>\n",
       "    <tr>\n",
       "      <th>87184</th>\n",
       "      <td>1</td>\n",
       "      <td>0</td>\n",
       "    </tr>\n",
       "    <tr>\n",
       "      <th>118596</th>\n",
       "      <td>1</td>\n",
       "      <td>0</td>\n",
       "    </tr>\n",
       "  </tbody>\n",
       "</table>\n",
       "</div>"
      ],
      "text/plain": [
       "        Realite  Prediction\n",
       "85237         1           0\n",
       "35754         1           0\n",
       "140006        1           0\n",
       "87184         1           0\n",
       "118596        1           0"
      ]
     },
     "execution_count": 40,
     "metadata": {},
     "output_type": "execute_result"
    }
   ],
   "source": [
    "df_faux_neg = df_realite_pred[(df_realite_pred['Prediction']==0) & (df_realite_pred['Realite']==1)]\n",
    "\n",
    "print(df_faux_neg.shape)\n",
    "df_faux_neg.head()\n"
   ]
  },
  {
   "cell_type": "markdown",
   "metadata": {
    "id": "Xqilhr6MVCMT"
   },
   "source": [
    "**Ajout à ce tableau des hauteurs de pluie du lendemain :**"
   ]
  },
  {
   "cell_type": "code",
   "execution_count": 41,
   "metadata": {
    "colab": {
     "base_uri": "https://localhost:8080/",
     "height": 310
    },
    "id": "Fz9OHeU2VCMT",
    "outputId": "99e86b1c-dc31-41de-820c-a07d91b5794a"
   },
   "outputs": [
    {
     "name": "stderr",
     "output_type": "stream",
     "text": [
      "C:\\Users\\33661\\AppData\\Local\\Temp/ipykernel_10784/3993921262.py:8: SettingWithCopyWarning: \n",
      "A value is trying to be set on a copy of a slice from a DataFrame.\n",
      "Try using .loc[row_indexer,col_indexer] = value instead\n",
      "\n",
      "See the caveats in the documentation: https://pandas.pydata.org/pandas-docs/stable/user_guide/indexing.html#returning-a-view-versus-a-copy\n",
      "  df_faux_neg['hauteur_pluie_lendemain'] = L\n"
     ]
    },
    {
     "data": {
      "text/html": [
       "<div>\n",
       "<style scoped>\n",
       "    .dataframe tbody tr th:only-of-type {\n",
       "        vertical-align: middle;\n",
       "    }\n",
       "\n",
       "    .dataframe tbody tr th {\n",
       "        vertical-align: top;\n",
       "    }\n",
       "\n",
       "    .dataframe thead th {\n",
       "        text-align: right;\n",
       "    }\n",
       "</style>\n",
       "<table border=\"1\" class=\"dataframe\">\n",
       "  <thead>\n",
       "    <tr style=\"text-align: right;\">\n",
       "      <th></th>\n",
       "      <th>Realite</th>\n",
       "      <th>Prediction</th>\n",
       "      <th>hauteur_pluie_lendemain</th>\n",
       "    </tr>\n",
       "  </thead>\n",
       "  <tbody>\n",
       "    <tr>\n",
       "      <th>85237</th>\n",
       "      <td>1</td>\n",
       "      <td>0</td>\n",
       "      <td>2.0</td>\n",
       "    </tr>\n",
       "    <tr>\n",
       "      <th>35754</th>\n",
       "      <td>1</td>\n",
       "      <td>0</td>\n",
       "      <td>2.2</td>\n",
       "    </tr>\n",
       "    <tr>\n",
       "      <th>140006</th>\n",
       "      <td>1</td>\n",
       "      <td>0</td>\n",
       "      <td>3.0</td>\n",
       "    </tr>\n",
       "    <tr>\n",
       "      <th>87184</th>\n",
       "      <td>1</td>\n",
       "      <td>0</td>\n",
       "      <td>18.8</td>\n",
       "    </tr>\n",
       "    <tr>\n",
       "      <th>118596</th>\n",
       "      <td>1</td>\n",
       "      <td>0</td>\n",
       "      <td>13.0</td>\n",
       "    </tr>\n",
       "  </tbody>\n",
       "</table>\n",
       "</div>"
      ],
      "text/plain": [
       "        Realite  Prediction  hauteur_pluie_lendemain\n",
       "85237         1           0                      2.0\n",
       "35754         1           0                      2.2\n",
       "140006        1           0                      3.0\n",
       "87184         1           0                     18.8\n",
       "118596        1           0                     13.0"
      ]
     },
     "execution_count": 41,
     "metadata": {},
     "output_type": "execute_result"
    }
   ],
   "source": [
    "L = []\n",
    "for i in df_faux_neg.index :\n",
    "  if df_depart.loc[i+1]['Location']==df_depart.loc[i]['Location'] :\n",
    "    L.append(df_depart.loc[i+1]['Rainfall'])\n",
    "  else :\n",
    "    L.append(np.nan)\n",
    "\n",
    "df_faux_neg['hauteur_pluie_lendemain'] = L\n",
    "df_faux_neg.head()\n"
   ]
  },
  {
   "cell_type": "code",
   "execution_count": 42,
   "metadata": {
    "colab": {
     "base_uri": "https://localhost:8080/"
    },
    "id": "bsdJawhqzQW2",
    "outputId": "92590aa8-328e-4b70-8bb0-a6698f6e5263"
   },
   "outputs": [
    {
     "data": {
      "text/plain": [
       "Realite                    0\n",
       "Prediction                 0\n",
       "hauteur_pluie_lendemain    0\n",
       "dtype: int64"
      ]
     },
     "execution_count": 42,
     "metadata": {},
     "output_type": "execute_result"
    }
   ],
   "source": [
    "df_faux_neg.isna().sum()"
   ]
  },
  {
   "cell_type": "markdown",
   "metadata": {
    "id": "WPUZ5CVrzohB"
   },
   "source": [
    "**Statistiques des faux négatifs :**"
   ]
  },
  {
   "cell_type": "code",
   "execution_count": 43,
   "metadata": {
    "colab": {
     "base_uri": "https://localhost:8080/",
     "height": 300
    },
    "id": "tBEi1JCQVCMU",
    "outputId": "461d014c-3d64-4a21-ac13-f342bbace4a3"
   },
   "outputs": [
    {
     "data": {
      "text/html": [
       "<div>\n",
       "<style scoped>\n",
       "    .dataframe tbody tr th:only-of-type {\n",
       "        vertical-align: middle;\n",
       "    }\n",
       "\n",
       "    .dataframe tbody tr th {\n",
       "        vertical-align: top;\n",
       "    }\n",
       "\n",
       "    .dataframe thead th {\n",
       "        text-align: right;\n",
       "    }\n",
       "</style>\n",
       "<table border=\"1\" class=\"dataframe\">\n",
       "  <thead>\n",
       "    <tr style=\"text-align: right;\">\n",
       "      <th></th>\n",
       "      <th>hauteur_pluie_lendemain</th>\n",
       "    </tr>\n",
       "  </thead>\n",
       "  <tbody>\n",
       "    <tr>\n",
       "      <th>count</th>\n",
       "      <td>506.000000</td>\n",
       "    </tr>\n",
       "    <tr>\n",
       "      <th>mean</th>\n",
       "      <td>5.058893</td>\n",
       "    </tr>\n",
       "    <tr>\n",
       "      <th>std</th>\n",
       "      <td>6.668642</td>\n",
       "    </tr>\n",
       "    <tr>\n",
       "      <th>min</th>\n",
       "      <td>1.200000</td>\n",
       "    </tr>\n",
       "    <tr>\n",
       "      <th>25%</th>\n",
       "      <td>1.600000</td>\n",
       "    </tr>\n",
       "    <tr>\n",
       "      <th>50%</th>\n",
       "      <td>2.800000</td>\n",
       "    </tr>\n",
       "    <tr>\n",
       "      <th>75%</th>\n",
       "      <td>5.200000</td>\n",
       "    </tr>\n",
       "    <tr>\n",
       "      <th>max</th>\n",
       "      <td>70.000000</td>\n",
       "    </tr>\n",
       "  </tbody>\n",
       "</table>\n",
       "</div>"
      ],
      "text/plain": [
       "       hauteur_pluie_lendemain\n",
       "count               506.000000\n",
       "mean                  5.058893\n",
       "std                   6.668642\n",
       "min                   1.200000\n",
       "25%                   1.600000\n",
       "50%                   2.800000\n",
       "75%                   5.200000\n",
       "max                  70.000000"
      ]
     },
     "execution_count": 43,
     "metadata": {},
     "output_type": "execute_result"
    }
   ],
   "source": [
    "pd.DataFrame(df_faux_neg['hauteur_pluie_lendemain'].describe())\n"
   ]
  },
  {
   "cell_type": "markdown",
   "metadata": {
    "id": "GDG0tE62VCMV"
   },
   "source": [
    "**Lorsque le modèle ne prévoit pas la pluie du lendemain, la moyenne des hauteurs de précipitations du lendemain est de 5.1 mm.**"
   ]
  },
  {
   "cell_type": "markdown",
   "metadata": {
    "id": "eBSlfnHubns4"
   },
   "source": [
    "## **5.2 Les vrais positifs**"
   ]
  },
  {
   "cell_type": "markdown",
   "metadata": {
    "id": "oGxOA-WGbns5"
   },
   "source": [
    "**Création d'un tableau contenant uniquement les vrais positifs :**"
   ]
  },
  {
   "cell_type": "code",
   "execution_count": 44,
   "metadata": {
    "colab": {
     "base_uri": "https://localhost:8080/",
     "height": 224
    },
    "id": "pudSdPtTbns5",
    "outputId": "3b5c014d-f452-47d9-8ea5-875d58c1c0ad"
   },
   "outputs": [
    {
     "name": "stdout",
     "output_type": "stream",
     "text": [
      "(2306, 2)\n"
     ]
    },
    {
     "data": {
      "text/html": [
       "<div>\n",
       "<style scoped>\n",
       "    .dataframe tbody tr th:only-of-type {\n",
       "        vertical-align: middle;\n",
       "    }\n",
       "\n",
       "    .dataframe tbody tr th {\n",
       "        vertical-align: top;\n",
       "    }\n",
       "\n",
       "    .dataframe thead th {\n",
       "        text-align: right;\n",
       "    }\n",
       "</style>\n",
       "<table border=\"1\" class=\"dataframe\">\n",
       "  <thead>\n",
       "    <tr style=\"text-align: right;\">\n",
       "      <th></th>\n",
       "      <th>Realite</th>\n",
       "      <th>Prediction</th>\n",
       "    </tr>\n",
       "  </thead>\n",
       "  <tbody>\n",
       "    <tr>\n",
       "      <th>64516</th>\n",
       "      <td>1</td>\n",
       "      <td>1</td>\n",
       "    </tr>\n",
       "    <tr>\n",
       "      <th>69190</th>\n",
       "      <td>1</td>\n",
       "      <td>1</td>\n",
       "    </tr>\n",
       "    <tr>\n",
       "      <th>80383</th>\n",
       "      <td>1</td>\n",
       "      <td>1</td>\n",
       "    </tr>\n",
       "    <tr>\n",
       "      <th>30557</th>\n",
       "      <td>1</td>\n",
       "      <td>1</td>\n",
       "    </tr>\n",
       "    <tr>\n",
       "      <th>71906</th>\n",
       "      <td>1</td>\n",
       "      <td>1</td>\n",
       "    </tr>\n",
       "  </tbody>\n",
       "</table>\n",
       "</div>"
      ],
      "text/plain": [
       "       Realite  Prediction\n",
       "64516        1           1\n",
       "69190        1           1\n",
       "80383        1           1\n",
       "30557        1           1\n",
       "71906        1           1"
      ]
     },
     "execution_count": 44,
     "metadata": {},
     "output_type": "execute_result"
    }
   ],
   "source": [
    "df_vrai_pos = df_realite_pred[(df_realite_pred['Prediction']==1) & (df_realite_pred['Realite']==1)]\n",
    "\n",
    "print(df_vrai_pos.shape)\n",
    "df_vrai_pos.head()"
   ]
  },
  {
   "cell_type": "markdown",
   "metadata": {
    "id": "rOV5OcTHbns6"
   },
   "source": [
    "**Ajout à ce tableau des hauteurs de pluie du lendemain :**"
   ]
  },
  {
   "cell_type": "code",
   "execution_count": 45,
   "metadata": {
    "colab": {
     "base_uri": "https://localhost:8080/",
     "height": 310
    },
    "id": "4WvC3Pnfbns6",
    "outputId": "7b396d0d-9ee7-4276-9204-285ed7ac0b68"
   },
   "outputs": [
    {
     "name": "stderr",
     "output_type": "stream",
     "text": [
      "C:\\Users\\33661\\AppData\\Local\\Temp/ipykernel_10784/187820257.py:8: SettingWithCopyWarning: \n",
      "A value is trying to be set on a copy of a slice from a DataFrame.\n",
      "Try using .loc[row_indexer,col_indexer] = value instead\n",
      "\n",
      "See the caveats in the documentation: https://pandas.pydata.org/pandas-docs/stable/user_guide/indexing.html#returning-a-view-versus-a-copy\n",
      "  df_vrai_pos['hauteur_pluie_lendemain'] = L\n"
     ]
    },
    {
     "data": {
      "text/html": [
       "<div>\n",
       "<style scoped>\n",
       "    .dataframe tbody tr th:only-of-type {\n",
       "        vertical-align: middle;\n",
       "    }\n",
       "\n",
       "    .dataframe tbody tr th {\n",
       "        vertical-align: top;\n",
       "    }\n",
       "\n",
       "    .dataframe thead th {\n",
       "        text-align: right;\n",
       "    }\n",
       "</style>\n",
       "<table border=\"1\" class=\"dataframe\">\n",
       "  <thead>\n",
       "    <tr style=\"text-align: right;\">\n",
       "      <th></th>\n",
       "      <th>Realite</th>\n",
       "      <th>Prediction</th>\n",
       "      <th>hauteur_pluie_lendemain</th>\n",
       "    </tr>\n",
       "  </thead>\n",
       "  <tbody>\n",
       "    <tr>\n",
       "      <th>64516</th>\n",
       "      <td>1</td>\n",
       "      <td>1</td>\n",
       "      <td>18.0</td>\n",
       "    </tr>\n",
       "    <tr>\n",
       "      <th>69190</th>\n",
       "      <td>1</td>\n",
       "      <td>1</td>\n",
       "      <td>2.2</td>\n",
       "    </tr>\n",
       "    <tr>\n",
       "      <th>80383</th>\n",
       "      <td>1</td>\n",
       "      <td>1</td>\n",
       "      <td>1.8</td>\n",
       "    </tr>\n",
       "    <tr>\n",
       "      <th>30557</th>\n",
       "      <td>1</td>\n",
       "      <td>1</td>\n",
       "      <td>3.8</td>\n",
       "    </tr>\n",
       "    <tr>\n",
       "      <th>71906</th>\n",
       "      <td>1</td>\n",
       "      <td>1</td>\n",
       "      <td>5.8</td>\n",
       "    </tr>\n",
       "  </tbody>\n",
       "</table>\n",
       "</div>"
      ],
      "text/plain": [
       "       Realite  Prediction  hauteur_pluie_lendemain\n",
       "64516        1           1                     18.0\n",
       "69190        1           1                      2.2\n",
       "80383        1           1                      1.8\n",
       "30557        1           1                      3.8\n",
       "71906        1           1                      5.8"
      ]
     },
     "execution_count": 45,
     "metadata": {},
     "output_type": "execute_result"
    }
   ],
   "source": [
    "L = []\n",
    "for i in df_vrai_pos.index :\n",
    "  if df_depart.loc[i+1]['Location']==df_depart.loc[i]['Location'] :\n",
    "    L.append(df_depart.loc[i+1]['Rainfall'])\n",
    "  else :\n",
    "    L.append(np.nan)\n",
    "\n",
    "df_vrai_pos['hauteur_pluie_lendemain'] = L\n",
    "df_vrai_pos.head()\n"
   ]
  },
  {
   "cell_type": "code",
   "execution_count": 46,
   "metadata": {
    "colab": {
     "base_uri": "https://localhost:8080/"
    },
    "id": "1pmunO3Hz8dP",
    "outputId": "41bd5806-8515-4a97-c198-232b6de50b67"
   },
   "outputs": [
    {
     "data": {
      "text/plain": [
       "Realite                    0\n",
       "Prediction                 0\n",
       "hauteur_pluie_lendemain    1\n",
       "dtype: int64"
      ]
     },
     "execution_count": 46,
     "metadata": {},
     "output_type": "execute_result"
    }
   ],
   "source": [
    "df_vrai_pos.isna().sum()"
   ]
  },
  {
   "cell_type": "code",
   "execution_count": 47,
   "metadata": {
    "colab": {
     "base_uri": "https://localhost:8080/"
    },
    "id": "1S8vs6vg0EP7",
    "outputId": "a3dcff10-ef82-4ef9-ddd2-a7ce227ba6e2"
   },
   "outputs": [
    {
     "name": "stderr",
     "output_type": "stream",
     "text": [
      "C:\\Users\\33661\\anaconda3\\lib\\site-packages\\pandas\\util\\_decorators.py:311: SettingWithCopyWarning: \n",
      "A value is trying to be set on a copy of a slice from a DataFrame\n",
      "\n",
      "See the caveats in the documentation: https://pandas.pydata.org/pandas-docs/stable/user_guide/indexing.html#returning-a-view-versus-a-copy\n",
      "  return func(*args, **kwargs)\n"
     ]
    },
    {
     "data": {
      "text/plain": [
       "Realite                    0\n",
       "Prediction                 0\n",
       "hauteur_pluie_lendemain    0\n",
       "dtype: int64"
      ]
     },
     "execution_count": 47,
     "metadata": {},
     "output_type": "execute_result"
    }
   ],
   "source": [
    "df_vrai_pos.dropna(inplace=True)\n",
    "df_vrai_pos.isna().sum()"
   ]
  },
  {
   "cell_type": "markdown",
   "metadata": {
    "id": "vEzqGNX-0Uid"
   },
   "source": [
    "**Statistiques des vrais positifs :**"
   ]
  },
  {
   "cell_type": "code",
   "execution_count": 48,
   "metadata": {
    "colab": {
     "base_uri": "https://localhost:8080/",
     "height": 300
    },
    "id": "WwYGKE73bns6",
    "outputId": "f37cc6cb-13f7-4324-980b-2a915e2f2d91"
   },
   "outputs": [
    {
     "data": {
      "text/html": [
       "<div>\n",
       "<style scoped>\n",
       "    .dataframe tbody tr th:only-of-type {\n",
       "        vertical-align: middle;\n",
       "    }\n",
       "\n",
       "    .dataframe tbody tr th {\n",
       "        vertical-align: top;\n",
       "    }\n",
       "\n",
       "    .dataframe thead th {\n",
       "        text-align: right;\n",
       "    }\n",
       "</style>\n",
       "<table border=\"1\" class=\"dataframe\">\n",
       "  <thead>\n",
       "    <tr style=\"text-align: right;\">\n",
       "      <th></th>\n",
       "      <th>hauteur_pluie_lendemain</th>\n",
       "    </tr>\n",
       "  </thead>\n",
       "  <tbody>\n",
       "    <tr>\n",
       "      <th>count</th>\n",
       "      <td>2305.000000</td>\n",
       "    </tr>\n",
       "    <tr>\n",
       "      <th>mean</th>\n",
       "      <td>12.341388</td>\n",
       "    </tr>\n",
       "    <tr>\n",
       "      <th>std</th>\n",
       "      <td>19.806963</td>\n",
       "    </tr>\n",
       "    <tr>\n",
       "      <th>min</th>\n",
       "      <td>1.200000</td>\n",
       "    </tr>\n",
       "    <tr>\n",
       "      <th>25%</th>\n",
       "      <td>2.800000</td>\n",
       "    </tr>\n",
       "    <tr>\n",
       "      <th>50%</th>\n",
       "      <td>5.800000</td>\n",
       "    </tr>\n",
       "    <tr>\n",
       "      <th>75%</th>\n",
       "      <td>13.600000</td>\n",
       "    </tr>\n",
       "    <tr>\n",
       "      <th>max</th>\n",
       "      <td>367.600000</td>\n",
       "    </tr>\n",
       "  </tbody>\n",
       "</table>\n",
       "</div>"
      ],
      "text/plain": [
       "       hauteur_pluie_lendemain\n",
       "count              2305.000000\n",
       "mean                 12.341388\n",
       "std                  19.806963\n",
       "min                   1.200000\n",
       "25%                   2.800000\n",
       "50%                   5.800000\n",
       "75%                  13.600000\n",
       "max                 367.600000"
      ]
     },
     "execution_count": 48,
     "metadata": {},
     "output_type": "execute_result"
    }
   ],
   "source": [
    "pd.DataFrame(df_vrai_pos['hauteur_pluie_lendemain'].describe())\n"
   ]
  },
  {
   "cell_type": "markdown",
   "metadata": {
    "id": "Ro9304IXbns7"
   },
   "source": [
    "**Lorsque le modèle prévoit correctement la pluie du lendemain, la moyenne des hauteurs de précipitations du lendemain est de 12.3 mm.**\n",
    "\n",
    "**Bilan - Si dans la réalité il pleut le lendemain, comparaison des hauteurs de précipitations lorsque le modèle prédit ou non la pluie :**\n"
   ]
  },
  {
   "cell_type": "code",
   "execution_count": 49,
   "metadata": {
    "colab": {
     "base_uri": "https://localhost:8080/",
     "height": 510
    },
    "id": "9Of8hJlQb3ut",
    "outputId": "73778129-a470-4a2b-aa81-628078bcdb31"
   },
   "outputs": [
    {
     "data": {
      "text/plain": [
       "''"
      ]
     },
     "execution_count": 49,
     "metadata": {},
     "output_type": "execute_result"
    },
    {
     "data": {
      "image/png": "[encoded data removed]",
      "text/plain": [
       "<Figure size 1008x432 with 1 Axes>"
      ]
     },
     "metadata": {
      "needs_background": "light"
     },
     "output_type": "display_data"
    }
   ],
   "source": [
    "plt.figure (figsize=(14,6))\n",
    "\n",
    "plt.boxplot([df_vrai_pos['hauteur_pluie_lendemain'], df_faux_neg['hauteur_pluie_lendemain']], sym='', vert=False,showmeans=True)\n",
    "plt.xlabel('hauteurs de précipitations en mm', size=13)\n",
    "plt.yticks([1,2],['pluie prédite','pluie non prédite'], size=13)\n",
    "plt.title(\"\\nLorsqu'il pleut le lendemain \\nDiagramme en boite : Comparaison  des hauteurs de précipitations lorsque le modèle prédit ou non la pluie\", size=13)\n",
    ";\n"
   ]
  },
  {
   "cell_type": "markdown",
   "metadata": {
    "id": "HQsmHPcEcP1L"
   },
   "source": [
    "**Conclusion - Lorsqu'il pleut dans la réalité le lendemain :**\n",
    "\n",
    "**Ce diagramme en boite montre clairement que lorsque notre deuxième modèle retenu (sur jeu rééquilibré) ne détecte pas la pluie du lendemain, les précipitations sont beaucoup plus faibles que lorsque le modèle la détecte :**\n",
    "\n",
    "*** Si la pluie est détectée, la moyenne des précipitations est de 12.3 mm contre 5.1 mm si elle n'est pas détectée.**\n",
    "\n",
    "*** 25 % des pluies non détectées sont inférieures à 1.6 mm alors que 25 % des pluies détectées sont inférieures à 2.8 mm (Q1).**\n",
    "\n",
    "*** 50 % des pluies non détectées sont inférieures à 2.8 mm alors que 50 % des pluies détectées sont inférieures à 5.8 mm (médiane).**\n",
    "\n",
    "*** 75 % des pluies non détectées sont inférieures à 5.2 mm alors que 75 % des pluies détectées sont inférieures à 13.6 mm (Q3).**\n"
   ]
  },
  {
   "cell_type": "markdown",
   "metadata": {
    "id": "9dQYSO8pVCMV"
   },
   "source": [
    "## **5.3 Les faux positifs**"
   ]
  },
  {
   "cell_type": "markdown",
   "metadata": {
    "id": "PhDnpeTtVCMW"
   },
   "source": [
    "**Création d'un tableau contenant uniquement les faux positifs :**"
   ]
  },
  {
   "cell_type": "code",
   "execution_count": 50,
   "metadata": {
    "colab": {
     "base_uri": "https://localhost:8080/",
     "height": 224
    },
    "id": "FNJbTfgFVCMW",
    "outputId": "1c503082-4805-4dad-c6a9-381add9aee9e"
   },
   "outputs": [
    {
     "name": "stdout",
     "output_type": "stream",
     "text": [
      "(1788, 2)\n"
     ]
    },
    {
     "data": {
      "text/html": [
       "<div>\n",
       "<style scoped>\n",
       "    .dataframe tbody tr th:only-of-type {\n",
       "        vertical-align: middle;\n",
       "    }\n",
       "\n",
       "    .dataframe tbody tr th {\n",
       "        vertical-align: top;\n",
       "    }\n",
       "\n",
       "    .dataframe thead th {\n",
       "        text-align: right;\n",
       "    }\n",
       "</style>\n",
       "<table border=\"1\" class=\"dataframe\">\n",
       "  <thead>\n",
       "    <tr style=\"text-align: right;\">\n",
       "      <th></th>\n",
       "      <th>Realite</th>\n",
       "      <th>Prediction</th>\n",
       "    </tr>\n",
       "  </thead>\n",
       "  <tbody>\n",
       "    <tr>\n",
       "      <th>87728</th>\n",
       "      <td>0</td>\n",
       "      <td>1</td>\n",
       "    </tr>\n",
       "    <tr>\n",
       "      <th>95118</th>\n",
       "      <td>0</td>\n",
       "      <td>1</td>\n",
       "    </tr>\n",
       "    <tr>\n",
       "      <th>34087</th>\n",
       "      <td>0</td>\n",
       "      <td>1</td>\n",
       "    </tr>\n",
       "    <tr>\n",
       "      <th>67230</th>\n",
       "      <td>0</td>\n",
       "      <td>1</td>\n",
       "    </tr>\n",
       "    <tr>\n",
       "      <th>61694</th>\n",
       "      <td>0</td>\n",
       "      <td>1</td>\n",
       "    </tr>\n",
       "  </tbody>\n",
       "</table>\n",
       "</div>"
      ],
      "text/plain": [
       "       Realite  Prediction\n",
       "87728        0           1\n",
       "95118        0           1\n",
       "34087        0           1\n",
       "67230        0           1\n",
       "61694        0           1"
      ]
     },
     "execution_count": 50,
     "metadata": {},
     "output_type": "execute_result"
    }
   ],
   "source": [
    "df_faux_pos = df_realite_pred[(df_realite_pred['Prediction']==1) & (df_realite_pred['Realite']==0)]\n",
    "\n",
    "print(df_faux_pos.shape)\n",
    "df_faux_pos.head()\n"
   ]
  },
  {
   "cell_type": "markdown",
   "metadata": {
    "id": "TFYmPMD_VCMX"
   },
   "source": [
    "\n",
    "**Ajout à ce tableau des hauteurs de pluie du lendemain :**"
   ]
  },
  {
   "cell_type": "code",
   "execution_count": 51,
   "metadata": {
    "colab": {
     "base_uri": "https://localhost:8080/",
     "height": 310
    },
    "id": "1C-DalMFVCMX",
    "outputId": "1cfc0107-bd78-4f20-b52b-9313503f26f5"
   },
   "outputs": [
    {
     "name": "stderr",
     "output_type": "stream",
     "text": [
      "C:\\Users\\33661\\AppData\\Local\\Temp/ipykernel_10784/1634887770.py:8: SettingWithCopyWarning: \n",
      "A value is trying to be set on a copy of a slice from a DataFrame.\n",
      "Try using .loc[row_indexer,col_indexer] = value instead\n",
      "\n",
      "See the caveats in the documentation: https://pandas.pydata.org/pandas-docs/stable/user_guide/indexing.html#returning-a-view-versus-a-copy\n",
      "  df_faux_pos['hauteur_pluie_lendemain'] = L\n"
     ]
    },
    {
     "data": {
      "text/html": [
       "<div>\n",
       "<style scoped>\n",
       "    .dataframe tbody tr th:only-of-type {\n",
       "        vertical-align: middle;\n",
       "    }\n",
       "\n",
       "    .dataframe tbody tr th {\n",
       "        vertical-align: top;\n",
       "    }\n",
       "\n",
       "    .dataframe thead th {\n",
       "        text-align: right;\n",
       "    }\n",
       "</style>\n",
       "<table border=\"1\" class=\"dataframe\">\n",
       "  <thead>\n",
       "    <tr style=\"text-align: right;\">\n",
       "      <th></th>\n",
       "      <th>Realite</th>\n",
       "      <th>Prediction</th>\n",
       "      <th>hauteur_pluie_lendemain</th>\n",
       "    </tr>\n",
       "  </thead>\n",
       "  <tbody>\n",
       "    <tr>\n",
       "      <th>87728</th>\n",
       "      <td>0</td>\n",
       "      <td>1</td>\n",
       "      <td>0.2</td>\n",
       "    </tr>\n",
       "    <tr>\n",
       "      <th>95118</th>\n",
       "      <td>0</td>\n",
       "      <td>1</td>\n",
       "      <td>0.0</td>\n",
       "    </tr>\n",
       "    <tr>\n",
       "      <th>34087</th>\n",
       "      <td>0</td>\n",
       "      <td>1</td>\n",
       "      <td>0.4</td>\n",
       "    </tr>\n",
       "    <tr>\n",
       "      <th>67230</th>\n",
       "      <td>0</td>\n",
       "      <td>1</td>\n",
       "      <td>0.4</td>\n",
       "    </tr>\n",
       "    <tr>\n",
       "      <th>61694</th>\n",
       "      <td>0</td>\n",
       "      <td>1</td>\n",
       "      <td>0.2</td>\n",
       "    </tr>\n",
       "  </tbody>\n",
       "</table>\n",
       "</div>"
      ],
      "text/plain": [
       "       Realite  Prediction  hauteur_pluie_lendemain\n",
       "87728        0           1                      0.2\n",
       "95118        0           1                      0.0\n",
       "34087        0           1                      0.4\n",
       "67230        0           1                      0.4\n",
       "61694        0           1                      0.2"
      ]
     },
     "execution_count": 51,
     "metadata": {},
     "output_type": "execute_result"
    }
   ],
   "source": [
    "L = []\n",
    "for i in df_faux_pos.index :\n",
    "  if df_depart.loc[i+1]['Location']==df_depart.loc[i]['Location'] :\n",
    "      L.append(df_depart.loc[i+1]['Rainfall'])\n",
    "  else :\n",
    "    L.append(np.nan)\n",
    "\n",
    "df_faux_pos['hauteur_pluie_lendemain'] = L\n",
    "df_faux_pos.head()\n"
   ]
  },
  {
   "cell_type": "code",
   "execution_count": 52,
   "metadata": {
    "colab": {
     "base_uri": "https://localhost:8080/"
    },
    "id": "8ZjuBDvS1BCY",
    "outputId": "be8a07f3-aa0d-442a-806f-a9db291d6cd5"
   },
   "outputs": [
    {
     "data": {
      "text/plain": [
       "Realite                    0\n",
       "Prediction                 0\n",
       "hauteur_pluie_lendemain    2\n",
       "dtype: int64"
      ]
     },
     "execution_count": 52,
     "metadata": {},
     "output_type": "execute_result"
    }
   ],
   "source": [
    "df_faux_pos.isna().sum()"
   ]
  },
  {
   "cell_type": "code",
   "execution_count": 53,
   "metadata": {
    "colab": {
     "base_uri": "https://localhost:8080/"
    },
    "id": "eLULVrJK1HZz",
    "outputId": "7c259f07-3174-4c3e-de2e-320c03c236e7"
   },
   "outputs": [
    {
     "name": "stderr",
     "output_type": "stream",
     "text": [
      "C:\\Users\\33661\\anaconda3\\lib\\site-packages\\pandas\\util\\_decorators.py:311: SettingWithCopyWarning: \n",
      "A value is trying to be set on a copy of a slice from a DataFrame\n",
      "\n",
      "See the caveats in the documentation: https://pandas.pydata.org/pandas-docs/stable/user_guide/indexing.html#returning-a-view-versus-a-copy\n",
      "  return func(*args, **kwargs)\n"
     ]
    },
    {
     "data": {
      "text/plain": [
       "Realite                    0\n",
       "Prediction                 0\n",
       "hauteur_pluie_lendemain    0\n",
       "dtype: int64"
      ]
     },
     "execution_count": 53,
     "metadata": {},
     "output_type": "execute_result"
    }
   ],
   "source": [
    "df_faux_pos.dropna(inplace=True)\n",
    "df_faux_pos.isna().sum()"
   ]
  },
  {
   "cell_type": "markdown",
   "metadata": {
    "id": "OnzPuis81T6F"
   },
   "source": [
    "**Statistiques des faux positifs :**"
   ]
  },
  {
   "cell_type": "code",
   "execution_count": 54,
   "metadata": {
    "colab": {
     "base_uri": "https://localhost:8080/",
     "height": 300
    },
    "id": "6vlWdkv1VCMY",
    "outputId": "62a86692-9b02-4bc6-fd5c-a4d05a59fbc2"
   },
   "outputs": [
    {
     "data": {
      "text/html": [
       "<div>\n",
       "<style scoped>\n",
       "    .dataframe tbody tr th:only-of-type {\n",
       "        vertical-align: middle;\n",
       "    }\n",
       "\n",
       "    .dataframe tbody tr th {\n",
       "        vertical-align: top;\n",
       "    }\n",
       "\n",
       "    .dataframe thead th {\n",
       "        text-align: right;\n",
       "    }\n",
       "</style>\n",
       "<table border=\"1\" class=\"dataframe\">\n",
       "  <thead>\n",
       "    <tr style=\"text-align: right;\">\n",
       "      <th></th>\n",
       "      <th>hauteur_pluie_lendemain</th>\n",
       "    </tr>\n",
       "  </thead>\n",
       "  <tbody>\n",
       "    <tr>\n",
       "      <th>count</th>\n",
       "      <td>1786.000000</td>\n",
       "    </tr>\n",
       "    <tr>\n",
       "      <th>mean</th>\n",
       "      <td>0.216797</td>\n",
       "    </tr>\n",
       "    <tr>\n",
       "      <th>std</th>\n",
       "      <td>0.305813</td>\n",
       "    </tr>\n",
       "    <tr>\n",
       "      <th>min</th>\n",
       "      <td>0.000000</td>\n",
       "    </tr>\n",
       "    <tr>\n",
       "      <th>25%</th>\n",
       "      <td>0.000000</td>\n",
       "    </tr>\n",
       "    <tr>\n",
       "      <th>50%</th>\n",
       "      <td>0.000000</td>\n",
       "    </tr>\n",
       "    <tr>\n",
       "      <th>75%</th>\n",
       "      <td>0.400000</td>\n",
       "    </tr>\n",
       "    <tr>\n",
       "      <th>max</th>\n",
       "      <td>1.000000</td>\n",
       "    </tr>\n",
       "  </tbody>\n",
       "</table>\n",
       "</div>"
      ],
      "text/plain": [
       "       hauteur_pluie_lendemain\n",
       "count              1786.000000\n",
       "mean                  0.216797\n",
       "std                   0.305813\n",
       "min                   0.000000\n",
       "25%                   0.000000\n",
       "50%                   0.000000\n",
       "75%                   0.400000\n",
       "max                   1.000000"
      ]
     },
     "execution_count": 54,
     "metadata": {},
     "output_type": "execute_result"
    }
   ],
   "source": [
    "pd.DataFrame(df_faux_pos['hauteur_pluie_lendemain'].describe())\n"
   ]
  },
  {
   "cell_type": "code",
   "execution_count": 55,
   "metadata": {
    "colab": {
     "base_uri": "https://localhost:8080/"
    },
    "id": "_HaIJxBzVCMY",
    "outputId": "571f4227-9073-4b6b-dd3c-3266ce6abf7e"
   },
   "outputs": [
    {
     "name": "stdout",
     "output_type": "stream",
     "text": [
      "Dans 43.62 % des cas de faux positifs il y a tout de même de petites pluies (< 1 mm).\n",
      "\n"
     ]
    }
   ],
   "source": [
    "p_FP = df_faux_pos[df_faux_pos['hauteur_pluie_lendemain']!=0].shape[0]/df_faux_pos.shape[0]*100\n",
    "\n",
    "print('Dans',np.round(p_FP,2), '% des cas de faux positifs il y a tout de même de petites pluies (< 1 mm).\\n')"
   ]
  },
  {
   "cell_type": "markdown",
   "metadata": {
    "id": "2GAcGR9pVCMY"
   },
   "source": [
    "**Conclusion :**\n",
    "\n",
    "**Lorsque le modèle prévoit par erreur la pluie du lendemain, il y a tout de même de légères précipitations dans 43.62 % des cas mais de hauteur inférieure à 1 mm, le seuil arbitrairement choisi (rappel : ne sont comptabilisées comme 'OUI' dans 'Rain Tomorrow' que les précipitations supérieures au seuil de 1 mm).**\n",
    "\n",
    "**La moyenne des hauteurs de précipitations du lendemain n'est donc pas nulle et vaut 0.22 mm.**\n",
    "\n"
   ]
  },
  {
   "cell_type": "markdown",
   "metadata": {
    "id": "hf9jCbViVCMb"
   },
   "source": [
    "## **5.4 Les vrais négatifs**"
   ]
  },
  {
   "cell_type": "markdown",
   "metadata": {
    "id": "Ytr9-LoSVCMc"
   },
   "source": [
    "**Création d'un tableau contenant uniquement les vrais négatifs :**"
   ]
  },
  {
   "cell_type": "code",
   "execution_count": 56,
   "metadata": {
    "colab": {
     "base_uri": "https://localhost:8080/",
     "height": 224
    },
    "id": "gepHhlXcVCMc",
    "outputId": "456d9a3f-f1e4-48d1-e7a8-1cf6c374e080"
   },
   "outputs": [
    {
     "name": "stdout",
     "output_type": "stream",
     "text": [
      "(7859, 2)\n"
     ]
    },
    {
     "data": {
      "text/html": [
       "<div>\n",
       "<style scoped>\n",
       "    .dataframe tbody tr th:only-of-type {\n",
       "        vertical-align: middle;\n",
       "    }\n",
       "\n",
       "    .dataframe tbody tr th {\n",
       "        vertical-align: top;\n",
       "    }\n",
       "\n",
       "    .dataframe thead th {\n",
       "        text-align: right;\n",
       "    }\n",
       "</style>\n",
       "<table border=\"1\" class=\"dataframe\">\n",
       "  <thead>\n",
       "    <tr style=\"text-align: right;\">\n",
       "      <th></th>\n",
       "      <th>Realite</th>\n",
       "      <th>Prediction</th>\n",
       "    </tr>\n",
       "  </thead>\n",
       "  <tbody>\n",
       "    <tr>\n",
       "      <th>100743</th>\n",
       "      <td>0</td>\n",
       "      <td>0</td>\n",
       "    </tr>\n",
       "    <tr>\n",
       "      <th>71205</th>\n",
       "      <td>0</td>\n",
       "      <td>0</td>\n",
       "    </tr>\n",
       "    <tr>\n",
       "      <th>139970</th>\n",
       "      <td>0</td>\n",
       "      <td>0</td>\n",
       "    </tr>\n",
       "    <tr>\n",
       "      <th>76944</th>\n",
       "      <td>0</td>\n",
       "      <td>0</td>\n",
       "    </tr>\n",
       "    <tr>\n",
       "      <th>13700</th>\n",
       "      <td>0</td>\n",
       "      <td>0</td>\n",
       "    </tr>\n",
       "  </tbody>\n",
       "</table>\n",
       "</div>"
      ],
      "text/plain": [
       "        Realite  Prediction\n",
       "100743        0           0\n",
       "71205         0           0\n",
       "139970        0           0\n",
       "76944         0           0\n",
       "13700         0           0"
      ]
     },
     "execution_count": 56,
     "metadata": {},
     "output_type": "execute_result"
    }
   ],
   "source": [
    "df_vrai_neg = df_realite_pred[(df_realite_pred['Prediction']==0) & (df_realite_pred['Realite']==0)]\n",
    "\n",
    "print(df_vrai_neg.shape)\n",
    "df_vrai_neg.head()\n"
   ]
  },
  {
   "cell_type": "markdown",
   "metadata": {
    "id": "jbrWVensVCMc"
   },
   "source": [
    "**Ajout à ce tableau des hauteurs de pluie du lendemain :**"
   ]
  },
  {
   "cell_type": "code",
   "execution_count": 57,
   "metadata": {
    "colab": {
     "base_uri": "https://localhost:8080/",
     "height": 310
    },
    "id": "TEUYdFPXVCMd",
    "outputId": "65c3a028-49ae-42da-ba46-ee660e2907cf"
   },
   "outputs": [
    {
     "name": "stderr",
     "output_type": "stream",
     "text": [
      "C:\\Users\\33661\\AppData\\Local\\Temp/ipykernel_10784/1057322026.py:8: SettingWithCopyWarning: \n",
      "A value is trying to be set on a copy of a slice from a DataFrame.\n",
      "Try using .loc[row_indexer,col_indexer] = value instead\n",
      "\n",
      "See the caveats in the documentation: https://pandas.pydata.org/pandas-docs/stable/user_guide/indexing.html#returning-a-view-versus-a-copy\n",
      "  df_vrai_neg['hauteur_pluie_lendemain'] = L\n"
     ]
    },
    {
     "data": {
      "text/html": [
       "<div>\n",
       "<style scoped>\n",
       "    .dataframe tbody tr th:only-of-type {\n",
       "        vertical-align: middle;\n",
       "    }\n",
       "\n",
       "    .dataframe tbody tr th {\n",
       "        vertical-align: top;\n",
       "    }\n",
       "\n",
       "    .dataframe thead th {\n",
       "        text-align: right;\n",
       "    }\n",
       "</style>\n",
       "<table border=\"1\" class=\"dataframe\">\n",
       "  <thead>\n",
       "    <tr style=\"text-align: right;\">\n",
       "      <th></th>\n",
       "      <th>Realite</th>\n",
       "      <th>Prediction</th>\n",
       "      <th>hauteur_pluie_lendemain</th>\n",
       "    </tr>\n",
       "  </thead>\n",
       "  <tbody>\n",
       "    <tr>\n",
       "      <th>100743</th>\n",
       "      <td>0</td>\n",
       "      <td>0</td>\n",
       "      <td>0.2</td>\n",
       "    </tr>\n",
       "    <tr>\n",
       "      <th>71205</th>\n",
       "      <td>0</td>\n",
       "      <td>0</td>\n",
       "      <td>0.0</td>\n",
       "    </tr>\n",
       "    <tr>\n",
       "      <th>139970</th>\n",
       "      <td>0</td>\n",
       "      <td>0</td>\n",
       "      <td>0.0</td>\n",
       "    </tr>\n",
       "    <tr>\n",
       "      <th>76944</th>\n",
       "      <td>0</td>\n",
       "      <td>0</td>\n",
       "      <td>0.6</td>\n",
       "    </tr>\n",
       "    <tr>\n",
       "      <th>13700</th>\n",
       "      <td>0</td>\n",
       "      <td>0</td>\n",
       "      <td>0.0</td>\n",
       "    </tr>\n",
       "  </tbody>\n",
       "</table>\n",
       "</div>"
      ],
      "text/plain": [
       "        Realite  Prediction  hauteur_pluie_lendemain\n",
       "100743        0           0                      0.2\n",
       "71205         0           0                      0.0\n",
       "139970        0           0                      0.0\n",
       "76944         0           0                      0.6\n",
       "13700         0           0                      0.0"
      ]
     },
     "execution_count": 57,
     "metadata": {},
     "output_type": "execute_result"
    }
   ],
   "source": [
    "L = []\n",
    "for i in df_vrai_neg.index :\n",
    "  if df_depart.loc[i+1]['Location']==df_depart.loc[i]['Location'] :\n",
    "    L.append(df_depart.loc[i+1]['Rainfall'])\n",
    "  else :\n",
    "    L.append(np.nan)\n",
    "    \n",
    "df_vrai_neg['hauteur_pluie_lendemain'] = L\n",
    "df_vrai_neg.head()\n"
   ]
  },
  {
   "cell_type": "code",
   "execution_count": 58,
   "metadata": {
    "colab": {
     "base_uri": "https://localhost:8080/"
    },
    "id": "dnTd7CXr1stm",
    "outputId": "5fb96e4a-e416-4730-8ff1-087d6cb06c04"
   },
   "outputs": [
    {
     "data": {
      "text/plain": [
       "Realite                    0\n",
       "Prediction                 0\n",
       "hauteur_pluie_lendemain    1\n",
       "dtype: int64"
      ]
     },
     "execution_count": 58,
     "metadata": {},
     "output_type": "execute_result"
    }
   ],
   "source": [
    "df_vrai_neg.isna().sum()"
   ]
  },
  {
   "cell_type": "code",
   "execution_count": 59,
   "metadata": {
    "colab": {
     "base_uri": "https://localhost:8080/"
    },
    "id": "ewrOB30Q10Wv",
    "outputId": "251701b8-843b-4c84-c307-dddcf3669ca6"
   },
   "outputs": [
    {
     "name": "stderr",
     "output_type": "stream",
     "text": [
      "C:\\Users\\33661\\anaconda3\\lib\\site-packages\\pandas\\util\\_decorators.py:311: SettingWithCopyWarning: \n",
      "A value is trying to be set on a copy of a slice from a DataFrame\n",
      "\n",
      "See the caveats in the documentation: https://pandas.pydata.org/pandas-docs/stable/user_guide/indexing.html#returning-a-view-versus-a-copy\n",
      "  return func(*args, **kwargs)\n"
     ]
    },
    {
     "data": {
      "text/plain": [
       "Realite                    0\n",
       "Prediction                 0\n",
       "hauteur_pluie_lendemain    0\n",
       "dtype: int64"
      ]
     },
     "execution_count": 59,
     "metadata": {},
     "output_type": "execute_result"
    }
   ],
   "source": [
    "df_vrai_neg.dropna(inplace=True)\n",
    "df_vrai_neg.isna().sum()"
   ]
  },
  {
   "cell_type": "markdown",
   "metadata": {
    "id": "qeuG2bRz15oh"
   },
   "source": [
    "**Statistiques des vrais négatifs :**"
   ]
  },
  {
   "cell_type": "code",
   "execution_count": 60,
   "metadata": {
    "colab": {
     "base_uri": "https://localhost:8080/",
     "height": 300
    },
    "id": "1VKlgzE6VCMd",
    "outputId": "9d0582af-488c-47e7-d20f-307d6926d72f"
   },
   "outputs": [
    {
     "data": {
      "text/html": [
       "<div>\n",
       "<style scoped>\n",
       "    .dataframe tbody tr th:only-of-type {\n",
       "        vertical-align: middle;\n",
       "    }\n",
       "\n",
       "    .dataframe tbody tr th {\n",
       "        vertical-align: top;\n",
       "    }\n",
       "\n",
       "    .dataframe thead th {\n",
       "        text-align: right;\n",
       "    }\n",
       "</style>\n",
       "<table border=\"1\" class=\"dataframe\">\n",
       "  <thead>\n",
       "    <tr style=\"text-align: right;\">\n",
       "      <th></th>\n",
       "      <th>hauteur_pluie_lendemain</th>\n",
       "    </tr>\n",
       "  </thead>\n",
       "  <tbody>\n",
       "    <tr>\n",
       "      <th>count</th>\n",
       "      <td>7858.000000</td>\n",
       "    </tr>\n",
       "    <tr>\n",
       "      <th>mean</th>\n",
       "      <td>0.042886</td>\n",
       "    </tr>\n",
       "    <tr>\n",
       "      <th>std</th>\n",
       "      <td>0.149934</td>\n",
       "    </tr>\n",
       "    <tr>\n",
       "      <th>min</th>\n",
       "      <td>0.000000</td>\n",
       "    </tr>\n",
       "    <tr>\n",
       "      <th>25%</th>\n",
       "      <td>0.000000</td>\n",
       "    </tr>\n",
       "    <tr>\n",
       "      <th>50%</th>\n",
       "      <td>0.000000</td>\n",
       "    </tr>\n",
       "    <tr>\n",
       "      <th>75%</th>\n",
       "      <td>0.000000</td>\n",
       "    </tr>\n",
       "    <tr>\n",
       "      <th>max</th>\n",
       "      <td>1.000000</td>\n",
       "    </tr>\n",
       "  </tbody>\n",
       "</table>\n",
       "</div>"
      ],
      "text/plain": [
       "       hauteur_pluie_lendemain\n",
       "count              7858.000000\n",
       "mean                  0.042886\n",
       "std                   0.149934\n",
       "min                   0.000000\n",
       "25%                   0.000000\n",
       "50%                   0.000000\n",
       "75%                   0.000000\n",
       "max                   1.000000"
      ]
     },
     "execution_count": 60,
     "metadata": {},
     "output_type": "execute_result"
    }
   ],
   "source": [
    "pd.DataFrame(df_vrai_neg['hauteur_pluie_lendemain'].describe())\n"
   ]
  },
  {
   "cell_type": "code",
   "execution_count": 61,
   "metadata": {
    "colab": {
     "base_uri": "https://localhost:8080/"
    },
    "id": "59LuDqgeVCMe",
    "outputId": "cf426766-4b14-49d5-d43a-259244a0b211"
   },
   "outputs": [
    {
     "name": "stdout",
     "output_type": "stream",
     "text": [
      "Dans 10.61 % des cas de vrais négatifs il y a tout de même de petites pluies (< 1 mm).\n",
      "\n"
     ]
    }
   ],
   "source": [
    "p_VN = df_vrai_neg[df_vrai_neg['hauteur_pluie_lendemain']!=0].shape[0]/df_vrai_neg.shape[0]*100\n",
    "\n",
    "print('Dans',np.round(p_VN,2), '% des cas de vrais négatifs il y a tout de même de petites pluies (< 1 mm).\\n')"
   ]
  },
  {
   "cell_type": "code",
   "execution_count": 62,
   "metadata": {
    "colab": {
     "base_uri": "https://localhost:8080/",
     "height": 446
    },
    "id": "UNjcpa0U-oTi",
    "outputId": "b447ab07-5db0-4ef2-c9dc-9250cf2fc797"
   },
   "outputs": [
    {
     "data": {
      "image/png": "[encoded data removed]",
      "text/plain": [
       "<Figure size 1296x432 with 2 Axes>"
      ]
     },
     "metadata": {
      "needs_background": "light"
     },
     "output_type": "display_data"
    }
   ],
   "source": [
    "x = ['Vrais négatifs', 'Faux positifs']\n",
    "y = [p_VN, p_FP]\n",
    "z = [df_vrai_neg['hauteur_pluie_lendemain'].mean(), df_faux_pos['hauteur_pluie_lendemain'].mean()]\n",
    "c = ['red', 'green']\n",
    "\n",
    "plt.figure(figsize=(18,6))\n",
    "\n",
    "plt.subplot(1,2,1)\n",
    "plt.bar(x,y, width=0.6, color=c)\n",
    "plt.ylabel('Fréquence en %', size=15)\n",
    "plt.xticks(size=15)\n",
    "plt.title(\"Cas 'il ne pleut pas demain dans la réalité' :\\n\\nPrésence de précipitations non nulles de hauteur inférieure à 1 mm \\n\", size=15);\n",
    "\n",
    "plt.subplot(1,2,2)\n",
    "plt.bar(x,z, width=0.6, color=c)\n",
    "plt.ylabel('moyenne en mm', size=15)\n",
    "plt.xticks(size=15)\n",
    "plt.title(\"Cas 'il ne pleut pas demain dans la réalité' :\\n\\nMoyenne des précipitations non nulles de hauteur inférieure à 1 mm \\n\", size=15);\n"
   ]
  },
  {
   "cell_type": "markdown",
   "metadata": {
    "id": "saQYatkxVCMe"
   },
   "source": [
    "**Conclusion - Lorsqu'il ne pleut pas dans la réalité le lendemain :**\n",
    "\n",
    "\n",
    "**Lorsque le modèle prévoit avec justesse qu'il ne pleut pas le lendemain, il y a tout de même de légères précipitations dans 10.61 % des cas contre 43.62 % des cas lorsque le modèle prévoit par erreur la pluie.**\n",
    "\n",
    "**La moyenne des hauteurs de précipitations du lendemain est de 0.04 mm lorsque le modèle prévoit avec exactitude qu'il ne pleut pas .**\n",
    "\n",
    "**La moyenne des hauteurs de précipitations du lendemain est de 0.22 mm lorsque le modèle prévoit à tort qu'il va pleuvoir.**\n",
    "\n",
    "**Les faibles précipitations (inférieures à 1 mm, non comptabilisées pour la pluie) incitent le modèle à se tromper en indiquant qu'il va pleuvoir le lendemain.**"
   ]
  },
  {
   "cell_type": "markdown",
   "metadata": {
    "id": "okXbRv0sfDnP"
   },
   "source": [
    "# **6. Conclusion**"
   ]
  },
  {
   "cell_type": "markdown",
   "metadata": {
    "id": "7kg999ATfL-G"
   },
   "source": [
    "**Pour les deux modèles retenus, avec et sans rééquilibrage de classes, les erreurs de prédictions de pluie sont associées à une fréquence et intensité de petites précipitations (inférieures au seuil de déclenchement 'oui il pleut') beaucoup plus importantes que lorsqu'il ne pleut pas dans la réalité.** "
   ]
  }
 ],
 "metadata": {
  "accelerator": "GPU",
  "colab": {
   "collapsed_sections": [],
   "name": "2.1.2 Analyse_erreurs _final",
   "provenance": [],
   "toc_visible": true
  },
  "gpuClass": "standard",
  "kernelspec": {
   "display_name": "Python 3 (ipykernel)",
   "language": "python",
   "name": "python3"
  },
  "language_info": {
   "codemirror_mode": {
    "name": "ipython",
    "version": 3
   },
   "file_extension": ".py",
   "mimetype": "text/x-python",
   "name": "python",
   "nbconvert_exporter": "python",
   "pygments_lexer": "ipython3",
   "version": "3.9.7"
  }
 },
 "nbformat": 4,
 "nbformat_minor": 4
}
